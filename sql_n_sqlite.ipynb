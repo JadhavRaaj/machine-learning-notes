{
  "nbformat": 4,
  "nbformat_minor": 0,
  "metadata": {
    "colab": {
      "provenance": [],
      "authorship_tag": "ABX9TyO8MHhDywiU9CSVTbldowT8",
      "include_colab_link": true
    },
    "kernelspec": {
      "name": "python3",
      "display_name": "Python 3"
    },
    "language_info": {
      "name": "python"
    }
  },
  "cells": [
    {
      "cell_type": "markdown",
      "metadata": {
        "id": "view-in-github",
        "colab_type": "text"
      },
      "source": [
        "<a href=\"https://colab.research.google.com/github/nighteye2/machine-learning-notes/blob/main/sql_n_sqlite.ipynb\" target=\"_parent\"><img src=\"https://colab.research.google.com/assets/colab-badge.svg\" alt=\"Open In Colab\"/></a>"
      ]
    },
    {
      "cell_type": "markdown",
      "source": [
        "# **SQL and SQLite**\n",
        "\n",
        "---\n",
        "sql (structured query language) is a standard language for managing and manipulating relational databases. sqlite is self contained, serverless and zero configuration database engine that is widely used for embedded database systems.\n"
      ],
      "metadata": {
        "id": "0YKT5ftISKQZ"
      }
    },
    {
      "cell_type": "code",
      "execution_count": 2,
      "metadata": {
        "colab": {
          "base_uri": "https://localhost:8080/"
        },
        "id": "L6TBCmuTSBtL",
        "outputId": "b2cb6224-269d-44f0-c02e-dce2c9ed75de"
      },
      "outputs": [
        {
          "output_type": "execute_result",
          "data": {
            "text/plain": [
              "<sqlite3.Connection at 0x7aaace2b3640>"
            ]
          },
          "metadata": {},
          "execution_count": 2
        }
      ],
      "source": [
        "import sqlite3\n",
        "connection = sqlite3.connect('example.db')\n",
        "connection"
      ]
    },
    {
      "cell_type": "code",
      "source": [
        "cursor = connection.cursor()"
      ],
      "metadata": {
        "id": "BntvB4kMTuhy"
      },
      "execution_count": 3,
      "outputs": []
    },
    {
      "cell_type": "code",
      "source": [
        "#create a table\n",
        "cursor.execute('''\n",
        "CREATE TABLE IF NOT EXISTS Employee(\n",
        "  Id INTEGER PRIMARY KEY,\n",
        "  Name TEXT NOT NULL,\n",
        "  Age INTEGER NOT NULL,\n",
        "  Department TEXT NOT NULL\n",
        "  )\n",
        "''')\n",
        "#commit the changes\n",
        "connection.commit()"
      ],
      "metadata": {
        "id": "p_u3fcdLUFxZ"
      },
      "execution_count": 6,
      "outputs": []
    },
    {
      "cell_type": "code",
      "source": [
        "cursor.execute('''\n",
        "SELECT * FROM Employee\n",
        "\n",
        "''')"
      ],
      "metadata": {
        "colab": {
          "base_uri": "https://localhost:8080/"
        },
        "id": "FFxqyV02VO_m",
        "outputId": "ebad3b1d-0f96-4552-8ed3-81ff37dbb363"
      },
      "execution_count": 7,
      "outputs": [
        {
          "output_type": "execute_result",
          "data": {
            "text/plain": [
              "<sqlite3.Cursor at 0x7aaace283940>"
            ]
          },
          "metadata": {},
          "execution_count": 7
        }
      ]
    },
    {
      "cell_type": "code",
      "source": [
        "cursor.execute('''\n",
        "INSERT INTO Employee(Name,Age,Department)\n",
        "VALUES('RAAJ',20,'ARTIFICIAL INTELLIGENCE')\n",
        "''')\n",
        "\n",
        "cursor.execute('''\n",
        "INSERT INTO Employee(Name,Age,Department)\n",
        "VALUES('DHIRAJ',21,'ARTIFICIAL INTELLIGENCE')\n",
        "''')\n",
        "\n",
        "cursor.execute('''\n",
        "INSERT INTO Employee(Name,Age,Department)\n",
        "VALUES('KEDAR',21,'ARTIFICIAL INTELLIGENCE')\n",
        "''')\n",
        "\n",
        "#commit the changes\n",
        "connection.commit()"
      ],
      "metadata": {
        "id": "Y_ZFX4RMV_q8"
      },
      "execution_count": 8,
      "outputs": []
    },
    {
      "cell_type": "code",
      "source": [
        "#query the data from the table\n",
        "cursor.execute('SELECT * FROM Employee')\n",
        "rows=cursor.fetchall() #fetches all the records from the table\n",
        "for row in rows:\n",
        "  print(row)"
      ],
      "metadata": {
        "colab": {
          "base_uri": "https://localhost:8080/"
        },
        "id": "wYoclT7VXJzM",
        "outputId": "fec6442e-2239-40a1-9012-4aee95a39f7e"
      },
      "execution_count": 11,
      "outputs": [
        {
          "output_type": "stream",
          "name": "stdout",
          "text": [
            "(1, 'RAAJ', 20, 'ARTIFICIAL INTELLIGENCE')\n",
            "(2, 'DHIRAJ', 22, 'ARTIFICIAL INTELLIGENCE')\n",
            "(3, 'KEDAR', 21, 'ARTIFICIAL INTELLIGENCE')\n"
          ]
        }
      ]
    },
    {
      "cell_type": "code",
      "source": [
        "#update the data in the table\n",
        "cursor.execute('''\n",
        "UPDATE Employee\n",
        "SET Age=22\n",
        "WHERE Name='DHIRAJ'\n",
        "''')\n",
        "#commit the changes\n",
        "connection.commit()"
      ],
      "metadata": {
        "id": "4A7QFN6jXlVm"
      },
      "execution_count": 10,
      "outputs": []
    },
    {
      "cell_type": "code",
      "source": [
        "#delete the data from the table\n",
        "cursor.execute('''\n",
        "DELETE FROM Employee\n",
        "WHERE Name='KEDAR'\n",
        "''')\n",
        "connection.commit()"
      ],
      "metadata": {
        "id": "IbCLS6RuYOKG"
      },
      "execution_count": 13,
      "outputs": []
    },
    {
      "cell_type": "code",
      "source": [
        "cursor.execute('SELECT * FROM Employee')\n",
        "rows= cursor.fetchall()\n",
        "\n",
        "for row in rows:\n",
        "  print(row)"
      ],
      "metadata": {
        "colab": {
          "base_uri": "https://localhost:8080/"
        },
        "id": "C-msRV68YxWh",
        "outputId": "016f9bd4-75b1-4471-f436-02b3f4456059"
      },
      "execution_count": 14,
      "outputs": [
        {
          "output_type": "stream",
          "name": "stdout",
          "text": [
            "(1, 'RAAJ', 20, 'ARTIFICIAL INTELLIGENCE')\n",
            "(2, 'DHIRAJ', 22, 'ARTIFICIAL INTELLIGENCE')\n"
          ]
        }
      ]
    },
    {
      "cell_type": "code",
      "source": [
        "#multiple insertion of data\n",
        "employee_data = [\n",
        "    ('ANUJ',21,'ARTIFICIAL INTELLIGENCE'),\n",
        "    ('ABHIJEET',20,'ARTIFICIAL INTELLIGENCE'),\n",
        "    ('BHUMIKA',22,'ARTIFICIAL INTELLIGENCE')\n",
        "]\n",
        "cursor.executemany('''\n",
        "INSERT INTO Employee(Name,Age,Department)\n",
        "VALUES(?,?,?)\n",
        "''',employee_data)\n",
        "connection.commit()"
      ],
      "metadata": {
        "id": "0LpdttiOZGUk"
      },
      "execution_count": 15,
      "outputs": []
    },
    {
      "cell_type": "code",
      "source": [
        "cursor.execute('SELECT * FROM Employee')\n",
        "rows = cursor.fetchall()\n",
        "for row in rows:\n",
        "  print(row)"
      ],
      "metadata": {
        "colab": {
          "base_uri": "https://localhost:8080/"
        },
        "id": "IG1Uu7nuafi5",
        "outputId": "6514a39c-7828-420d-89f1-08f9ca57190b"
      },
      "execution_count": 16,
      "outputs": [
        {
          "output_type": "stream",
          "name": "stdout",
          "text": [
            "(1, 'RAAJ', 20, 'ARTIFICIAL INTELLIGENCE')\n",
            "(2, 'DHIRAJ', 22, 'ARTIFICIAL INTELLIGENCE')\n",
            "(3, 'ANUJ', 21, 'ARTIFICIAL INTELLIGENCE')\n",
            "(4, 'ABHIJEET', 20, 'ARTIFICIAL INTELLIGENCE')\n",
            "(5, 'BHUMIKA', 22, 'ARTIFICIAL INTELLIGENCE')\n"
          ]
        }
      ]
    },
    {
      "cell_type": "code",
      "source": [
        "# last statement to close the connection\n",
        "connection.close()"
      ],
      "metadata": {
        "id": "kingK0Y4aq2A"
      },
      "execution_count": 17,
      "outputs": []
    },
    {
      "cell_type": "code",
      "source": [
        "#now if you try to execute cursor.execute() it will not be executed as connection is closed."
      ],
      "metadata": {
        "id": "jHmCGHAGa0FO"
      },
      "execution_count": null,
      "outputs": []
    }
  ]
}