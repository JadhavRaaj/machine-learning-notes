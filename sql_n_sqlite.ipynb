{
  "nbformat": 4,
  "nbformat_minor": 0,
  "metadata": {
    "colab": {
      "provenance": [],
      "authorship_tag": "ABX9TyPv02yQoUJQ7Z0ue8qlz0xw",
      "include_colab_link": true
    },
    "kernelspec": {
      "name": "python3",
      "display_name": "Python 3"
    },
    "language_info": {
      "name": "python"
    }
  },
  "cells": [
    {
      "cell_type": "markdown",
      "metadata": {
        "id": "view-in-github",
        "colab_type": "text"
      },
      "source": [
        "<a href=\"https://colab.research.google.com/github/nighteye2/machine-learning-notes/blob/main/sql_n_sqlite.ipynb\" target=\"_parent\"><img src=\"https://colab.research.google.com/assets/colab-badge.svg\" alt=\"Open In Colab\"/></a>"
      ]
    },
    {
      "cell_type": "markdown",
      "source": [
        "# **SQL and SQLite**\n",
        "\n",
        "---\n",
        "sql (structured query language) is a standard language for managing and manipulating relational databases. sqlite is self contained, serverless and zero configuration database engine that is widely used for embedded database systems.\n"
      ],
      "metadata": {
        "id": "0YKT5ftISKQZ"
      }
    },
    {
      "cell_type": "code",
      "execution_count": 19,
      "metadata": {
        "colab": {
          "base_uri": "https://localhost:8080/"
        },
        "id": "L6TBCmuTSBtL",
        "outputId": "5cdda302-75ca-4cad-f85f-65fb2065b3fb"
      },
      "outputs": [
        {
          "output_type": "execute_result",
          "data": {
            "text/plain": [
              "<sqlite3.Connection at 0x7aaa9dc50040>"
            ]
          },
          "metadata": {},
          "execution_count": 19
        }
      ],
      "source": [
        "import sqlite3\n",
        "connection = sqlite3.connect('example.db')\n",
        "connection"
      ]
    },
    {
      "cell_type": "code",
      "source": [
        "cursor = connection.cursor()"
      ],
      "metadata": {
        "id": "BntvB4kMTuhy"
      },
      "execution_count": 20,
      "outputs": []
    },
    {
      "cell_type": "code",
      "source": [
        "#create a table\n",
        "cursor.execute('''\n",
        "CREATE TABLE IF NOT EXISTS Employees(\n",
        "  Id INTEGER PRIMARY KEY,\n",
        "  Name TEXT NOT NULL,\n",
        "  Age INTEGER NOT NULL,\n",
        "  Department TEXT NOT NULL\n",
        "  )\n",
        "''')\n",
        "#commit the changes\n",
        "connection.commit()"
      ],
      "metadata": {
        "id": "p_u3fcdLUFxZ"
      },
      "execution_count": 26,
      "outputs": []
    },
    {
      "cell_type": "code",
      "source": [
        "cursor.execute('''\n",
        "SELECT * FROM Employees\n",
        "\n",
        "''')"
      ],
      "metadata": {
        "colab": {
          "base_uri": "https://localhost:8080/"
        },
        "id": "FFxqyV02VO_m",
        "outputId": "0c647e88-9fba-4bb0-cffa-1968d659495e"
      },
      "execution_count": 27,
      "outputs": [
        {
          "output_type": "execute_result",
          "data": {
            "text/plain": [
              "<sqlite3.Cursor at 0x7aaa9dc36640>"
            ]
          },
          "metadata": {},
          "execution_count": 27
        }
      ]
    },
    {
      "cell_type": "code",
      "source": [
        "cursor.execute('''\n",
        "INSERT INTO Employees(Name,Age,Department)\n",
        "VALUES('RAAJ',20,'ARTIFICIAL INTELLIGENCE')\n",
        "''')\n",
        "\n",
        "cursor.execute('''\n",
        "INSERT INTO Employees(Name,Age,Department)\n",
        "VALUES('DHIRAJ',21,'ARTIFICIAL INTELLIGENCE')\n",
        "''')\n",
        "\n",
        "cursor.execute('''\n",
        "INSERT INTO Employees(Name,Age,Department)\n",
        "VALUES('KEDAR',21,'ARTIFICIAL INTELLIGENCE')\n",
        "''')\n",
        "\n",
        "#commit the changes\n",
        "connection.commit()"
      ],
      "metadata": {
        "id": "Y_ZFX4RMV_q8"
      },
      "execution_count": 28,
      "outputs": []
    },
    {
      "cell_type": "code",
      "source": [
        "#query the data from the table\n",
        "cursor.execute('SELECT * FROM Employees')\n",
        "rows=cursor.fetchall() #fetches all the records from the table\n",
        "for row in rows:\n",
        "  print(row)"
      ],
      "metadata": {
        "colab": {
          "base_uri": "https://localhost:8080/"
        },
        "id": "wYoclT7VXJzM",
        "outputId": "6b53a1ce-48fe-4540-9142-cf80abdf5d04"
      },
      "execution_count": 29,
      "outputs": [
        {
          "output_type": "stream",
          "name": "stdout",
          "text": [
            "(1, 'RAAJ', 20, 'ARTIFICIAL INTELLIGENCE')\n",
            "(2, 'DHIRAJ', 21, 'ARTIFICIAL INTELLIGENCE')\n",
            "(3, 'KEDAR', 21, 'ARTIFICIAL INTELLIGENCE')\n"
          ]
        }
      ]
    },
    {
      "cell_type": "code",
      "source": [
        "#update the data in the table\n",
        "cursor.execute('''\n",
        "UPDATE Employees\n",
        "SET Age=22\n",
        "WHERE Name='DHIRAJ'\n",
        "''')\n",
        "#commit the changes\n",
        "connection.commit()"
      ],
      "metadata": {
        "id": "4A7QFN6jXlVm"
      },
      "execution_count": 30,
      "outputs": []
    },
    {
      "cell_type": "code",
      "source": [
        "#delete the data from the table\n",
        "cursor.execute('''\n",
        "DELETE FROM Employees\n",
        "WHERE Name='KEDAR'\n",
        "''')\n",
        "connection.commit()"
      ],
      "metadata": {
        "id": "IbCLS6RuYOKG"
      },
      "execution_count": 31,
      "outputs": []
    },
    {
      "cell_type": "code",
      "source": [
        "cursor.execute('SELECT * FROM Employees')\n",
        "rows= cursor.fetchall()\n",
        "\n",
        "for row in rows:\n",
        "  print(row)"
      ],
      "metadata": {
        "colab": {
          "base_uri": "https://localhost:8080/"
        },
        "id": "C-msRV68YxWh",
        "outputId": "d37c9df7-8350-43bd-cbff-3b3f1bd634e8"
      },
      "execution_count": 32,
      "outputs": [
        {
          "output_type": "stream",
          "name": "stdout",
          "text": [
            "(1, 'RAAJ', 20, 'ARTIFICIAL INTELLIGENCE')\n",
            "(2, 'DHIRAJ', 22, 'ARTIFICIAL INTELLIGENCE')\n"
          ]
        }
      ]
    },
    {
      "cell_type": "code",
      "source": [
        "#multiple insertion of data\n",
        "employee_data = [\n",
        "    ('ANUJ',21,'ARTIFICIAL INTELLIGENCE'),\n",
        "    ('ABHIJEET',20,'ARTIFICIAL INTELLIGENCE'),\n",
        "    ('BHUMIKA',22,'ARTIFICIAL INTELLIGENCE')\n",
        "]\n",
        "cursor.executemany('''\n",
        "INSERT INTO Employees(Name,Age,Department)\n",
        "VALUES(?,?,?)\n",
        "''',employee_data)\n",
        "connection.commit()"
      ],
      "metadata": {
        "id": "0LpdttiOZGUk"
      },
      "execution_count": 33,
      "outputs": []
    },
    {
      "cell_type": "code",
      "source": [
        "cursor.execute('SELECT * FROM Employees')\n",
        "rows = cursor.fetchall()\n",
        "for row in rows:\n",
        "  print(row)"
      ],
      "metadata": {
        "colab": {
          "base_uri": "https://localhost:8080/"
        },
        "id": "IG1Uu7nuafi5",
        "outputId": "7892812e-581f-4a6f-b922-6e5f6d29d52b"
      },
      "execution_count": 52,
      "outputs": [
        {
          "output_type": "stream",
          "name": "stdout",
          "text": [
            "(1, 'RAAJ', 20, 'ARTIFICIAL INTELLIGENCE')\n",
            "(2, 'DHIRAJ', 22, 'ARTIFICIAL INTELLIGENCE')\n",
            "(3, 'ANUJ', 21, 'ARTIFICIAL INTELLIGENCE')\n",
            "(4, 'ABHIJEET', 20, 'ARTIFICIAL INTELLIGENCE')\n",
            "(5, 'BHUMIKA', 22, 'ARTIFICIAL INTELLIGENCE')\n",
            "(6, 'SANJANA', 23, 'COMPUTER SCIENCE')\n",
            "(7, 'FARHAAN', 20, 'COMPUTER SCIENCE')\n"
          ]
        }
      ]
    },
    {
      "cell_type": "code",
      "source": [],
      "metadata": {
        "id": "kingK0Y4aq2A"
      },
      "execution_count": 36,
      "outputs": []
    },
    {
      "cell_type": "code",
      "source": [
        "#now if you try to execute cursor.execute() it will not be executed as connection is closed."
      ],
      "metadata": {
        "id": "jHmCGHAGa0FO"
      },
      "execution_count": null,
      "outputs": []
    },
    {
      "cell_type": "code",
      "source": [
        "import pandas as pd\n",
        "import sqlite3\n",
        "\n",
        "# Establish a connection to the database\n",
        "connection = sqlite3.connect('example.db')  # Replace with your database file\n",
        "\n",
        "# Define the SQL query\n",
        "query = \"SELECT * FROM Employees\"  # Replace with your table name\n",
        "\n",
        "# Read the table into a DataFrame\n",
        "df = pd.read_sql_query(query, connection)\n",
        "\n",
        "\n",
        "# Display the DataFrame\n",
        "print(df)"
      ],
      "metadata": {
        "colab": {
          "base_uri": "https://localhost:8080/"
        },
        "id": "FN3N-SFmb7Cr",
        "outputId": "455e735e-1522-47b6-f6ac-4d4f35a77c95"
      },
      "execution_count": 58,
      "outputs": [
        {
          "output_type": "stream",
          "name": "stdout",
          "text": [
            "   Id      Name  Age               Department\n",
            "0   1      RAAJ   20  ARTIFICIAL INTELLIGENCE\n",
            "1   2    DHIRAJ   22  ARTIFICIAL INTELLIGENCE\n",
            "2   3      ANUJ   21  ARTIFICIAL INTELLIGENCE\n",
            "3   4  ABHIJEET   20  ARTIFICIAL INTELLIGENCE\n",
            "4   5   BHUMIKA   22  ARTIFICIAL INTELLIGENCE\n"
          ]
        }
      ]
    },
    {
      "cell_type": "code",
      "source": [
        "cursor.execute('''\n",
        "INSERT INTO Employees(Name,Age,Department)\n",
        "VALUES('SANJANA',23,'COMPUTER SCIENCE')\n",
        "''')\n",
        "\n",
        "cursor.execute('''\n",
        "INSERT INTO Employees(Name,Age,Department)\n",
        "VALUES('FARHAAN',20,'COMPUTER SCIENCE')\n",
        "''')\n",
        "\n",
        "connection.commit()"
      ],
      "metadata": {
        "id": "iNShsdECcCzn"
      },
      "execution_count": 44,
      "outputs": []
    },
    {
      "cell_type": "code",
      "source": [
        "department_count = employee_df.groupby('Department').size()\n",
        "department_count"
      ],
      "metadata": {
        "colab": {
          "base_uri": "https://localhost:8080/",
          "height": 147
        },
        "id": "o2vHQOI0eSf5",
        "outputId": "dc843b9e-f8dc-4c49-e897-380997383db1"
      },
      "execution_count": 51,
      "outputs": [
        {
          "output_type": "execute_result",
          "data": {
            "text/plain": [
              "Department\n",
              "ARTIFICIAL INTELLIGENCE    5\n",
              "dtype: int64"
            ],
            "text/html": [
              "<div>\n",
              "<style scoped>\n",
              "    .dataframe tbody tr th:only-of-type {\n",
              "        vertical-align: middle;\n",
              "    }\n",
              "\n",
              "    .dataframe tbody tr th {\n",
              "        vertical-align: top;\n",
              "    }\n",
              "\n",
              "    .dataframe thead th {\n",
              "        text-align: right;\n",
              "    }\n",
              "</style>\n",
              "<table border=\"1\" class=\"dataframe\">\n",
              "  <thead>\n",
              "    <tr style=\"text-align: right;\">\n",
              "      <th></th>\n",
              "      <th>0</th>\n",
              "    </tr>\n",
              "    <tr>\n",
              "      <th>Department</th>\n",
              "      <th></th>\n",
              "    </tr>\n",
              "  </thead>\n",
              "  <tbody>\n",
              "    <tr>\n",
              "      <th>ARTIFICIAL INTELLIGENCE</th>\n",
              "      <td>5</td>\n",
              "    </tr>\n",
              "  </tbody>\n",
              "</table>\n",
              "</div><br><label><b>dtype:</b> int64</label>"
            ]
          },
          "metadata": {},
          "execution_count": 51
        }
      ]
    },
    {
      "cell_type": "code",
      "source": [],
      "metadata": {
        "id": "TPYFb3VHe3V2"
      },
      "execution_count": null,
      "outputs": []
    }
  ]
}