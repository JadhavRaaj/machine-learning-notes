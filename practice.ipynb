{
  "nbformat": 4,
  "nbformat_minor": 0,
  "metadata": {
    "colab": {
      "provenance": [],
      "authorship_tag": "ABX9TyN64jPRv0G2/vqeXz/BEdES",
      "include_colab_link": true
    },
    "kernelspec": {
      "name": "python3",
      "display_name": "Python 3"
    },
    "language_info": {
      "name": "python"
    }
  },
  "cells": [
    {
      "cell_type": "markdown",
      "metadata": {
        "id": "view-in-github",
        "colab_type": "text"
      },
      "source": [
        "<a href=\"https://colab.research.google.com/github/nighteye2/machine-learning-notes/blob/main/practice.ipynb\" target=\"_parent\"><img src=\"https://colab.research.google.com/assets/colab-badge.svg\" alt=\"Open In Colab\"/></a>"
      ]
    },
    {
      "cell_type": "markdown",
      "source": [
        "# **DATA_STRUCTURES IN PYTHON**"
      ],
      "metadata": {
        "id": "9igqiZz_ItXv"
      }
    },
    {
      "cell_type": "markdown",
      "source": [
        "# **LISTS**"
      ],
      "metadata": {
        "id": "aM7qt7qf-iMN"
      }
    },
    {
      "cell_type": "code",
      "source": [
        "fruits= [\"apple\",\"banana\",\"guava\",\"kiwi\",\"orange\",\"apple\"]\n",
        "fruits.insert(1,\"mango\")\n",
        "fruits.append(\"olives\")\n",
        "fruits[0]=\"pineapple\"\n",
        "fruits.remove(\"guava\")\n",
        "count= fruits.count(\"apple\")\n",
        "print(count)\n",
        "print(fruits)"
      ],
      "metadata": {
        "colab": {
          "base_uri": "https://localhost:8080/"
        },
        "id": "CwcU1zZTwba6",
        "outputId": "cb723efd-1839-436c-ad2a-d2c09ac16088"
      },
      "execution_count": null,
      "outputs": [
        {
          "output_type": "stream",
          "name": "stdout",
          "text": [
            "1\n",
            "['pineapple', 'mango', 'banana', 'kiwi', 'orange', 'apple', 'olives']\n"
          ]
        }
      ]
    },
    {
      "cell_type": "code",
      "source": [
        "numbers= [x**2 for x in range(1,11)]\n",
        "print(numbers)"
      ],
      "metadata": {
        "colab": {
          "base_uri": "https://localhost:8080/"
        },
        "id": "zfb1i3wKSBC7",
        "outputId": "c746e5e9-6b6b-4498-a19b-b4e39be3a2ae"
      },
      "execution_count": null,
      "outputs": [
        {
          "output_type": "stream",
          "name": "stdout",
          "text": [
            "[1, 4, 9, 16, 25, 36, 49, 64, 81, 100]\n"
          ]
        }
      ]
    },
    {
      "cell_type": "code",
      "source": [
        "even_num=[x**2 for x in range(1,11) if x%2!=0]\n",
        "print(even_num)"
      ],
      "metadata": {
        "id": "DHvgH8HISAJR",
        "colab": {
          "base_uri": "https://localhost:8080/"
        },
        "outputId": "33caf336-a4d3-49a8-aa53-8a5bcd6d5fa4"
      },
      "execution_count": null,
      "outputs": [
        {
          "output_type": "stream",
          "name": "stdout",
          "text": [
            "[1, 9, 25, 49, 81]\n"
          ]
        }
      ]
    },
    {
      "cell_type": "code",
      "source": [
        "num=[1,2,3,4,5]\n",
        "letters=['a','b','c','d','e']\n",
        "pair=[]\n",
        "for x in num:\n",
        "  index1=num.index(x)\n",
        "  for y in letters:\n",
        "    index2=letters.index(y)\n",
        "    if index1==index2:\n",
        "      pair.append([x,y])\n",
        "print(pair)"
      ],
      "metadata": {
        "colab": {
          "base_uri": "https://localhost:8080/"
        },
        "id": "uYOcSTRw9XKp",
        "outputId": "9e86915b-c768-40a8-86b8-9d44b8f30f07"
      },
      "execution_count": null,
      "outputs": [
        {
          "output_type": "stream",
          "name": "stdout",
          "text": [
            "[[1, 'a'], [2, 'b'], [3, 'c'], [4, 'd'], [5, 'e']]\n"
          ]
        }
      ]
    },
    {
      "cell_type": "code",
      "source": [
        "#Nested list\n",
        "num=[1,2,3,4,5]\n",
        "letters=['a','b','c','d','e']\n",
        "pair=[[x,y] for x in num for y in letters]\n",
        "print(pair)"
      ],
      "metadata": {
        "id": "mWI9gKy9wYL5",
        "colab": {
          "base_uri": "https://localhost:8080/"
        },
        "outputId": "fed20a4c-e62e-470e-b0b9-9c7e3366b737"
      },
      "execution_count": null,
      "outputs": [
        {
          "output_type": "stream",
          "name": "stdout",
          "text": [
            "[[1, 'a'], [1, 'b'], [1, 'c'], [1, 'd'], [1, 'e'], [2, 'a'], [2, 'b'], [2, 'c'], [2, 'd'], [2, 'e'], [3, 'a'], [3, 'b'], [3, 'c'], [3, 'd'], [3, 'e'], [4, 'a'], [4, 'b'], [4, 'c'], [4, 'd'], [4, 'e'], [5, 'a'], [5, 'b'], [5, 'c'], [5, 'd'], [5, 'e']]\n"
          ]
        }
      ]
    },
    {
      "cell_type": "code",
      "source": [
        "#nested lists\n",
        "nested_lst=[[1,2,3],['a','b','c']]\n",
        "print(nested_lst[1][2])"
      ],
      "metadata": {
        "colab": {
          "base_uri": "https://localhost:8080/"
        },
        "id": "gdHFTXnk9JI5",
        "outputId": "8edf91da-cc65-4329-f6f8-538f317e2f03"
      },
      "execution_count": null,
      "outputs": [
        {
          "output_type": "stream",
          "name": "stdout",
          "text": [
            "c\n"
          ]
        }
      ]
    },
    {
      "cell_type": "code",
      "source": [
        "numbers=[1,2,3,4,5]\n",
        "numbers2=[x**2 for x in numbers]\n",
        "print(numbers2)"
      ],
      "metadata": {
        "colab": {
          "base_uri": "https://localhost:8080/"
        },
        "id": "KEd1s_yHBayT",
        "outputId": "6609c215-7424-43a5-8a3e-0c4ecb8b8cc9"
      },
      "execution_count": null,
      "outputs": [
        {
          "output_type": "stream",
          "name": "stdout",
          "text": [
            "[1, 4, 9, 16, 25]\n"
          ]
        }
      ]
    },
    {
      "cell_type": "markdown",
      "source": [
        "# **TUPLES**"
      ],
      "metadata": {
        "id": "nTJ7SZw2-zu9"
      }
    },
    {
      "cell_type": "code",
      "source": [
        "tuple = (1,2,3,4,5)\n",
        "print(tuple[1::])"
      ],
      "metadata": {
        "colab": {
          "base_uri": "https://localhost:8080/"
        },
        "id": "XuuyQNAn-ufH",
        "outputId": "73825e2b-9cf7-4831-df65-9a256812e434"
      },
      "execution_count": null,
      "outputs": [
        {
          "output_type": "stream",
          "name": "stdout",
          "text": [
            "(2, 3, 4, 5)\n"
          ]
        }
      ]
    },
    {
      "cell_type": "code",
      "source": [
        "letters=('a','b','c','d','e')\n",
        "concat_tuple= tuple+letters\n",
        "print(concat_tuple)"
      ],
      "metadata": {
        "colab": {
          "base_uri": "https://localhost:8080/"
        },
        "id": "AYdMQ3g0-u0N",
        "outputId": "73a78216-173f-4c76-a2b9-2ca45de3dab8"
      },
      "execution_count": null,
      "outputs": [
        {
          "output_type": "stream",
          "name": "stdout",
          "text": [
            "(1, 2, 3, 4, 5, 'a', 'b', 'c', 'd', 'e')\n"
          ]
        }
      ]
    },
    {
      "cell_type": "code",
      "source": [
        "#packing a tuple\n",
        "packed_tuple= 1,'Raaj',3.14\n",
        "print(packed_tuple)"
      ],
      "metadata": {
        "id": "MmWDknrX-u3H",
        "colab": {
          "base_uri": "https://localhost:8080/"
        },
        "outputId": "5a50a558-fe9c-4fcc-ac34-7891861889ca"
      },
      "execution_count": null,
      "outputs": [
        {
          "output_type": "stream",
          "name": "stdout",
          "text": [
            "(1, 'Raaj', 3.14)\n"
          ]
        }
      ]
    },
    {
      "cell_type": "code",
      "source": [
        "#upacking a tuple\n",
        "a,b,c=packed_tuple\n",
        "print(a)\n",
        "print(b)\n",
        "print(c)"
      ],
      "metadata": {
        "id": "6TPC-iP9Bzir",
        "colab": {
          "base_uri": "https://localhost:8080/"
        },
        "outputId": "8a3f0c2e-331e-4774-8911-be59c7d17ed3"
      },
      "execution_count": null,
      "outputs": [
        {
          "output_type": "stream",
          "name": "stdout",
          "text": [
            "1\n",
            "Raaj\n",
            "3.14\n"
          ]
        }
      ]
    },
    {
      "cell_type": "code",
      "source": [
        "#unpacking with *\n",
        "#by using asterisk what we are doing is we are unpacking first two elements in the first and last variable but all the remaing elements are getting unpacked in the middle var.\n",
        "letters=('a','b','c','d','e')\n",
        "first,*middle,last=letters\n",
        "print(first)\n",
        "print(middle)\n",
        "print(last)"
      ],
      "metadata": {
        "id": "xwbY3U7k-u5z",
        "colab": {
          "base_uri": "https://localhost:8080/"
        },
        "outputId": "aa065469-8c8a-4501-a6f9-66af3a8f4702"
      },
      "execution_count": null,
      "outputs": [
        {
          "output_type": "stream",
          "name": "stdout",
          "text": [
            "a\n",
            "['b', 'c', 'd']\n",
            "e\n"
          ]
        }
      ]
    },
    {
      "cell_type": "code",
      "source": [
        "#iterating over the tuple\n",
        "tuple1=(1,2,3,4,5)\n",
        "for x in tuple1:\n",
        "  if x!=0:\n",
        "    print(\"true\")\n",
        "else:\n",
        "  print(\"false\")"
      ],
      "metadata": {
        "id": "wsRsUl6--xq8",
        "colab": {
          "base_uri": "https://localhost:8080/"
        },
        "outputId": "342528d4-0b55-4f23-e325-4a88eb61abaf"
      },
      "execution_count": null,
      "outputs": [
        {
          "output_type": "stream",
          "name": "stdout",
          "text": [
            "true\n",
            "true\n",
            "true\n",
            "true\n",
            "true\n",
            "false\n"
          ]
        }
      ]
    },
    {
      "cell_type": "code",
      "source": [
        "#iterating over nested tuple\n",
        "nested_tuple=((1,2,3),(4,5,6),(7,8,9))\n",
        "for x in nested_tuple:\n",
        "  for y in x:\n",
        "    print(y)"
      ],
      "metadata": {
        "colab": {
          "base_uri": "https://localhost:8080/"
        },
        "id": "U_sGle1QBBj4",
        "outputId": "efd9d30c-0c0f-493f-f86b-b96ad315e7e9"
      },
      "execution_count": null,
      "outputs": [
        {
          "output_type": "stream",
          "name": "stdout",
          "text": [
            "1\n",
            "2\n",
            "3\n",
            "4\n",
            "5\n",
            "6\n",
            "7\n",
            "8\n",
            "9\n"
          ]
        }
      ]
    },
    {
      "cell_type": "code",
      "source": [
        "row=5\n",
        "for x in range(1,row+1):\n",
        "  for y in range(1,x+1):\n",
        "    print(\"*\", end=\"\")\n",
        "  print()"
      ],
      "metadata": {
        "colab": {
          "base_uri": "https://localhost:8080/"
        },
        "id": "9-A3OMsiD562",
        "outputId": "2990e9e3-15be-40e4-d5da-a73d5f17cb67"
      },
      "execution_count": null,
      "outputs": [
        {
          "output_type": "stream",
          "name": "stdout",
          "text": [
            "*\n",
            "**\n",
            "***\n",
            "****\n",
            "*****\n"
          ]
        }
      ]
    },
    {
      "cell_type": "code",
      "source": [],
      "metadata": {
        "id": "dBbAm5tpEheP"
      },
      "execution_count": null,
      "outputs": []
    },
    {
      "cell_type": "markdown",
      "source": [
        "# **SETS**"
      ],
      "metadata": {
        "id": "txDWblLyFueA"
      }
    },
    {
      "cell_type": "code",
      "source": [
        "#sets are built in data type in python. they do not follow specific order. they do not allow items to get repeated.used to store collection of unique items."
      ],
      "metadata": {
        "id": "dJguFU9XFxw_"
      },
      "execution_count": null,
      "outputs": []
    },
    {
      "cell_type": "code",
      "source": [
        "myset=set({})\n",
        "append = 'true'\n",
        "while append=='true':\n",
        "  num = input(\"Enter the number\")\n",
        "  myset.add(num)\n",
        "  if num=='stop':\n",
        "    append='false'\n",
        "print(myset)"
      ],
      "metadata": {
        "colab": {
          "base_uri": "https://localhost:8080/"
        },
        "id": "qcEQWFluGxGr",
        "outputId": "65784997-4f7c-4b56-e215-6e6ced54d1b3"
      },
      "execution_count": null,
      "outputs": [
        {
          "output_type": "stream",
          "name": "stdout",
          "text": [
            "Enter the number10\n",
            "Enter the numbergas\n",
            "Enter the number54\n",
            "Enter the number3.12\n",
            "Enter the numberstop\n",
            "{'3.12', 'gas', '10', '54', 'stop'}\n"
          ]
        }
      ]
    },
    {
      "cell_type": "code",
      "source": [
        "#membership tests in set"
      ],
      "metadata": {
        "id": "ywB7ySNEGw28"
      },
      "execution_count": null,
      "outputs": []
    },
    {
      "cell_type": "code",
      "source": [
        "set1={1,2,3,4,5}\n",
        "print(3 in set1)\n",
        "print(9 in set1)"
      ],
      "metadata": {
        "colab": {
          "base_uri": "https://localhost:8080/"
        },
        "id": "XZkosSQgGwk6",
        "outputId": "18cf1740-b75f-4208-8779-6a1b246ef02f"
      },
      "execution_count": null,
      "outputs": [
        {
          "output_type": "stream",
          "name": "stdout",
          "text": [
            "True\n",
            "False\n"
          ]
        }
      ]
    },
    {
      "cell_type": "code",
      "source": [
        "#union of set\n",
        "set2 = {4,5,6,7,8}\n",
        "union_set= set1.union(set2)\n",
        "print(union_set)"
      ],
      "metadata": {
        "colab": {
          "base_uri": "https://localhost:8080/"
        },
        "id": "1yBHRJDaGv5A",
        "outputId": "8e58b8b9-7dee-4c82-812f-77041718cb36"
      },
      "execution_count": null,
      "outputs": [
        {
          "output_type": "stream",
          "name": "stdout",
          "text": [
            "{1, 2, 3, 4, 5, 6, 7, 8}\n"
          ]
        }
      ]
    },
    {
      "cell_type": "code",
      "source": [
        "#intersection of set\n",
        "set3={3,4,5,6,7}\n",
        "intersection_set=set1.intersection(set3)\n",
        "print(intersection_set)"
      ],
      "metadata": {
        "colab": {
          "base_uri": "https://localhost:8080/"
        },
        "id": "x_pkGHk-GvQs",
        "outputId": "8a8f75df-1637-4f3c-b988-9fb9869436a4"
      },
      "execution_count": null,
      "outputs": [
        {
          "output_type": "stream",
          "name": "stdout",
          "text": [
            "{3, 4, 5}\n"
          ]
        }
      ]
    },
    {
      "cell_type": "code",
      "source": [
        "#difference\n",
        "print(set3.difference(set1))"
      ],
      "metadata": {
        "colab": {
          "base_uri": "https://localhost:8080/"
        },
        "id": "43MdM6JBGuwr",
        "outputId": "a5dc7963-0f08-497c-a084-bade1e7da5d2"
      },
      "execution_count": null,
      "outputs": [
        {
          "output_type": "stream",
          "name": "stdout",
          "text": [
            "{6, 7}\n"
          ]
        }
      ]
    },
    {
      "cell_type": "code",
      "source": [
        "#symmetric difference\n",
        "print(set1.symmetric_difference(set3))"
      ],
      "metadata": {
        "colab": {
          "base_uri": "https://localhost:8080/"
        },
        "id": "l693gKhMax_M",
        "outputId": "2599859a-370a-43b1-b211-fe90927c11b6"
      },
      "execution_count": null,
      "outputs": [
        {
          "output_type": "stream",
          "name": "stdout",
          "text": [
            "{1, 2, 6, 7}\n"
          ]
        }
      ]
    },
    {
      "cell_type": "markdown",
      "source": [
        "# **Dictionaries**"
      ],
      "metadata": {
        "id": "N1eocFkTbWFm"
      }
    },
    {
      "cell_type": "code",
      "source": [
        "#dictionaries are unordered collection of items. they store data in key value pairs.keys must be immutable and unique while value can be of any type."
      ],
      "metadata": {
        "id": "-_xEAacpbZxV"
      },
      "execution_count": null,
      "outputs": []
    },
    {
      "cell_type": "code",
      "source": [
        "student_info= {'name':'Raaj','age':20,'grade':'A'}\n",
        "print(student_info['name'])"
      ],
      "metadata": {
        "colab": {
          "base_uri": "https://localhost:8080/"
        },
        "id": "-lQ84c_scJDJ",
        "outputId": "5473ce68-eac9-434d-8c15-41470909c753"
      },
      "execution_count": null,
      "outputs": [
        {
          "output_type": "stream",
          "name": "stdout",
          "text": [
            "Raaj\n"
          ]
        }
      ]
    },
    {
      "cell_type": "code",
      "source": [
        "student_info['grade']='A+'\n",
        "print(student_info)"
      ],
      "metadata": {
        "colab": {
          "base_uri": "https://localhost:8080/"
        },
        "id": "eDRWXyyVcI02",
        "outputId": "39d33af3-121c-4e31-ca2c-9ac1adaedcdc"
      },
      "execution_count": null,
      "outputs": [
        {
          "output_type": "stream",
          "name": "stdout",
          "text": [
            "{'name': 'Raaj', 'age': 20, 'grade': 'A+'}\n"
          ]
        }
      ]
    },
    {
      "cell_type": "code",
      "source": [
        "student_info['major']='Computer Science'\n",
        "print(student_info)"
      ],
      "metadata": {
        "colab": {
          "base_uri": "https://localhost:8080/"
        },
        "id": "N9pU1Y_HcIpO",
        "outputId": "e96f6113-380a-4d77-d256-a32527895f2a"
      },
      "execution_count": null,
      "outputs": [
        {
          "output_type": "stream",
          "name": "stdout",
          "text": [
            "{'name': 'Raaj', 'age': 20, 'grade': 'A+', 'major': 'Computer Science'}\n"
          ]
        }
      ]
    },
    {
      "cell_type": "code",
      "source": [
        "student_info.pop('age')\n",
        "print(student_info)"
      ],
      "metadata": {
        "colab": {
          "base_uri": "https://localhost:8080/"
        },
        "id": "IGJtZCfHcIAW",
        "outputId": "4084f778-278c-4e23-e1df-040a60887c51"
      },
      "execution_count": null,
      "outputs": [
        {
          "output_type": "stream",
          "name": "stdout",
          "text": [
            "{'name': 'Raaj', 'grade': 'A+', 'major': 'Computer Science'}\n"
          ]
        }
      ]
    },
    {
      "cell_type": "code",
      "source": [
        "del student_info['major']\n",
        "print(student_info)"
      ],
      "metadata": {
        "colab": {
          "base_uri": "https://localhost:8080/"
        },
        "id": "qGBdyoEicHyN",
        "outputId": "4baec179-b001-4cef-c36f-8a4de99d1864"
      },
      "execution_count": null,
      "outputs": [
        {
          "output_type": "stream",
          "name": "stdout",
          "text": [
            "{'name': 'Raaj', 'grade': 'A+'}\n"
          ]
        }
      ]
    },
    {
      "cell_type": "code",
      "source": [
        "items=student_info.items()\n",
        "print(items)"
      ],
      "metadata": {
        "colab": {
          "base_uri": "https://localhost:8080/"
        },
        "id": "NO4MtDoNeMt0",
        "outputId": "87f80ba8-5e93-4072-a1dc-26091727a887"
      },
      "execution_count": null,
      "outputs": [
        {
          "output_type": "stream",
          "name": "stdout",
          "text": [
            "dict_items([('name', 'Raaj'), ('grade', 'A+')])\n"
          ]
        }
      ]
    },
    {
      "cell_type": "code",
      "source": [
        "#hard copy\n",
        "student1={'name':'Raaj','age':20,'grade':'A'}\n",
        "student2=student1\n",
        "student1['name']='Raj'\n",
        "print(student1)\n",
        "print(student2)"
      ],
      "metadata": {
        "colab": {
          "base_uri": "https://localhost:8080/"
        },
        "id": "deLeKmm1eYc1",
        "outputId": "2486c358-e667-4089-af3b-cbf2c27f8c10"
      },
      "execution_count": null,
      "outputs": [
        {
          "output_type": "stream",
          "name": "stdout",
          "text": [
            "{'name': 'Raj', 'age': 20, 'grade': 'A'}\n",
            "{'name': 'Raj', 'age': 20, 'grade': 'A'}\n"
          ]
        }
      ]
    },
    {
      "cell_type": "code",
      "source": [
        "#shallow copy\n",
        "student1={'name':'Raaj','age':20,'grade':'A+'}\n",
        "student2=student1.copy()\n",
        "student1['name']='Raj'\n",
        "student1['grade']='A'\n",
        "print(student1)\n",
        "print(student2)"
      ],
      "metadata": {
        "colab": {
          "base_uri": "https://localhost:8080/"
        },
        "id": "iu1rGsH3e85I",
        "outputId": "39fb0599-e65e-45c4-d694-3454bf162cd7"
      },
      "execution_count": null,
      "outputs": [
        {
          "output_type": "stream",
          "name": "stdout",
          "text": [
            "{'name': 'Raj', 'age': 20, 'grade': 'A'}\n",
            "{'name': 'Raaj', 'age': 20, 'grade': 'A+'}\n"
          ]
        }
      ]
    },
    {
      "cell_type": "code",
      "source": [
        "#iterating over keys\n",
        "student1={'name':'Raaj','age':20,'grade':'A+'}\n",
        "for keys in student1.keys():\n",
        "  print(keys)"
      ],
      "metadata": {
        "colab": {
          "base_uri": "https://localhost:8080/"
        },
        "id": "B_ktTczxfCIt",
        "outputId": "1648484d-27be-4959-fe25-864d1dd9c609"
      },
      "execution_count": null,
      "outputs": [
        {
          "output_type": "stream",
          "name": "stdout",
          "text": [
            "name\n",
            "age\n",
            "grade\n"
          ]
        }
      ]
    },
    {
      "cell_type": "code",
      "source": [
        "#iterating over values\n",
        "student1={'name':'Raaj','age':20,'grade':'A+'}\n",
        "for values in student1.values():\n",
        "  print(values)"
      ],
      "metadata": {
        "colab": {
          "base_uri": "https://localhost:8080/"
        },
        "id": "ezk5T45Tfv5k",
        "outputId": "f665b8fa-0891-42a1-fa0e-b26571cb05dd"
      },
      "execution_count": null,
      "outputs": [
        {
          "output_type": "stream",
          "name": "stdout",
          "text": [
            "Raaj\n",
            "20\n",
            "A+\n"
          ]
        }
      ]
    },
    {
      "cell_type": "code",
      "source": [
        "#iterating over key value pairs\n",
        "student1={'name':'Raaj','age':20,'grade':'A+'}\n",
        "for keys,values in student1.items():\n",
        "  print(f'{keys}:{values}')"
      ],
      "metadata": {
        "colab": {
          "base_uri": "https://localhost:8080/"
        },
        "id": "5hTsTKAIgA-1",
        "outputId": "1429bfd1-f0aa-4f53-9ef9-edf597265f2a"
      },
      "execution_count": null,
      "outputs": [
        {
          "output_type": "stream",
          "name": "stdout",
          "text": [
            "name:Raaj\n",
            "age:20\n",
            "grade:A+\n"
          ]
        }
      ]
    },
    {
      "cell_type": "code",
      "source": [
        "#nested dictionaries\n",
        "students={\n",
        "    'student1':{'name':'Raaj','age':20,'grade':'A+'},\n",
        "    'student2':{'name':'dhiraj','age':21,'grade':'A'},\n",
        "    'student3':{'name':'kedar','age':22,'grade':'B'}\n",
        "}\n",
        "print(students['student1']['name'])"
      ],
      "metadata": {
        "colab": {
          "base_uri": "https://localhost:8080/"
        },
        "id": "TNqLfVt9gS1F",
        "outputId": "dec625ce-89b7-47b1-b768-a7680e5e5180"
      },
      "execution_count": null,
      "outputs": [
        {
          "output_type": "stream",
          "name": "stdout",
          "text": [
            "Raaj\n"
          ]
        }
      ]
    },
    {
      "cell_type": "code",
      "source": [
        "#accessing items in nested lists\n",
        "for x,y in students.items():\n",
        "  print(x)\n",
        "  for a,b in y.items():\n",
        "    print(f'{a}:{b}')"
      ],
      "metadata": {
        "colab": {
          "base_uri": "https://localhost:8080/"
        },
        "id": "vyfhLvCZgqMx",
        "outputId": "895cbbff-baca-4292-d427-2321cd950199"
      },
      "execution_count": null,
      "outputs": [
        {
          "output_type": "stream",
          "name": "stdout",
          "text": [
            "student1\n",
            "name:Raaj\n",
            "age:20\n",
            "grade:A+\n",
            "student2\n",
            "name:dhiraj\n",
            "age:21\n",
            "grade:A\n",
            "student3\n",
            "name:kedar\n",
            "age:22\n",
            "grade:B\n"
          ]
        }
      ]
    },
    {
      "cell_type": "code",
      "source": [
        "#keys comprehention\n",
        "square_dict={x:x**2 for x in range(1,6)}\n",
        "print(square_dict)"
      ],
      "metadata": {
        "colab": {
          "base_uri": "https://localhost:8080/"
        },
        "id": "2YiVMrQug9Jc",
        "outputId": "a14a419a-9725-4e2d-aafa-c76363d006e4"
      },
      "execution_count": null,
      "outputs": [
        {
          "output_type": "stream",
          "name": "stdout",
          "text": [
            "{1: 1, 2: 4, 3: 9, 4: 16, 5: 25}\n"
          ]
        }
      ]
    },
    {
      "cell_type": "code",
      "source": [
        "#conditional loop\n",
        "even_square_dict={x:x**2 for x in range(1,11) if x%2==0}\n",
        "print(even_square_dict)"
      ],
      "metadata": {
        "colab": {
          "base_uri": "https://localhost:8080/"
        },
        "id": "63q5AYOMhqLY",
        "outputId": "085a2d27-71b3-48de-e711-5a52ddbcbcae"
      },
      "execution_count": null,
      "outputs": [
        {
          "output_type": "stream",
          "name": "stdout",
          "text": [
            "{2: 4, 4: 16, 6: 36, 8: 64, 10: 100}\n"
          ]
        }
      ]
    },
    {
      "cell_type": "code",
      "source": [
        "#merging two dictionaries\n",
        "dict1={'a':1,'b':2}\n",
        "dict2={'c':3,'d':4}\n",
        "merged_dict={**dict1,**dict2}\n",
        "print(merged_dict)"
      ],
      "metadata": {
        "colab": {
          "base_uri": "https://localhost:8080/"
        },
        "id": "Rk8zybEvhzCf",
        "outputId": "32c145ec-1df0-4615-992c-e4919668df0c"
      },
      "execution_count": null,
      "outputs": [
        {
          "output_type": "stream",
          "name": "stdout",
          "text": [
            "{'a': 1, 'b': 2, 'c': 3, 'd': 4}\n"
          ]
        }
      ]
    },
    {
      "cell_type": "code",
      "source": [
        "#take input from user and store them in the nested list\n",
        "student_info = {}  # Initialize the dictionary to store student information\n",
        "\n",
        "while True:  # Loop until explicitly broken\n",
        "    print('Options:')\n",
        "    print('1. Add student information')\n",
        "    print('2. View student information')\n",
        "    print('3. Exit')\n",
        "    choice = input('Enter your choice: ')\n",
        "\n",
        "    if choice == '1':\n",
        "        try:\n",
        "            num_students = int(input('Enter the number of students: '))\n",
        "            for i in range(num_students):\n",
        "                student_name = input(f'Enter name for student {i+1}: ')\n",
        "                student_age = int(input(f'Enter age for student {i+1}: '))\n",
        "                student_grade = input(f'Enter grade for student {i+1}: ')\n",
        "                student_info[student_name] = {\n",
        "                    'age': student_age,\n",
        "                    'grade': student_grade\n",
        "                }\n",
        "        except ValueError:\n",
        "            print(\"Invalid input! Please enter valid numbers for age and number of students.\")\n",
        "\n",
        "    elif choice == '2':\n",
        "        if student_info:\n",
        "            print('Student Information:')\n",
        "            for student_name, student_details in student_info.items():\n",
        "                print(f'Name: {student_name}')\n",
        "                print(f'Age: {student_details[\"age\"]}')\n",
        "                print(f'Grade: {student_details[\"grade\"]}')\n",
        "                print('-' * 20)\n",
        "        else:\n",
        "            print('No student information available.')\n",
        "\n",
        "    elif choice == '3':\n",
        "        print('Exiting program. Goodbye!')\n",
        "        break\n",
        "\n",
        "    else:\n",
        "        print('Invalid choice. Please enter 1, 2, or 3.')\n"
      ],
      "metadata": {
        "colab": {
          "base_uri": "https://localhost:8080/"
        },
        "id": "3rE-CfVXtpdb",
        "outputId": "381e4b0a-0176-49c3-df0b-f962a2513ba6"
      },
      "execution_count": 28,
      "outputs": [
        {
          "output_type": "stream",
          "name": "stdout",
          "text": [
            "Options:\n",
            "1. Add student information\n",
            "2. View student information\n",
            "3. Exit\n",
            "Enter your choice: 2\n",
            "No student information available.\n",
            "Options:\n",
            "1. Add student information\n",
            "2. View student information\n",
            "3. Exit\n",
            "Enter your choice: 3\n",
            "Exiting program. Goodbye!\n"
          ]
        }
      ]
    },
    {
      "cell_type": "code",
      "source": [
        "user_dash = int(input('enter the number of dashes:'))\n",
        "for i in range(user_dash):\n",
        "  for j in range(i+1):\n",
        "    print('-',end='')\n",
        "  print()"
      ],
      "metadata": {
        "colab": {
          "base_uri": "https://localhost:8080/"
        },
        "id": "fRn5-Ja_wrqt",
        "outputId": "326099e1-7f61-47f6-f30c-8a6ea08b0723"
      },
      "execution_count": 31,
      "outputs": [
        {
          "output_type": "stream",
          "name": "stdout",
          "text": [
            "enter the number of dashes:11\n",
            "-\n",
            "--\n",
            "---\n",
            "----\n",
            "-----\n",
            "------\n",
            "-------\n",
            "--------\n",
            "---------\n",
            "----------\n",
            "-----------\n"
          ]
        }
      ]
    },
    {
      "cell_type": "code",
      "source": [],
      "metadata": {
        "id": "mL1aXfqX0l7U"
      },
      "execution_count": null,
      "outputs": []
    }
  ]
}