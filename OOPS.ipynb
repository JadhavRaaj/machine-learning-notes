{
  "nbformat": 4,
  "nbformat_minor": 0,
  "metadata": {
    "colab": {
      "provenance": [],
      "authorship_tag": "ABX9TyNancXOWUjbZeKq0kCCN221",
      "include_colab_link": true
    },
    "kernelspec": {
      "name": "python3",
      "display_name": "Python 3"
    },
    "language_info": {
      "name": "python"
    }
  },
  "cells": [
    {
      "cell_type": "markdown",
      "metadata": {
        "id": "view-in-github",
        "colab_type": "text"
      },
      "source": [
        "<a href=\"https://colab.research.google.com/github/nighteye2/machine-learning-notes/blob/main/OOPS.ipynb\" target=\"_parent\"><img src=\"https://colab.research.google.com/assets/colab-badge.svg\" alt=\"Open In Colab\"/></a>"
      ]
    },
    {
      "cell_type": "markdown",
      "source": [
        "# **OOPS**\n",
        "\n",
        "---\n",
        "\n",
        "\n",
        "\n",
        "**OOP is object oriented programming in which the creation of object, classes are involved.**"
      ],
      "metadata": {
        "id": "KBClk-H52ARZ"
      }
    },
    {
      "cell_type": "code",
      "execution_count": null,
      "metadata": {
        "colab": {
          "base_uri": "https://localhost:8080/"
        },
        "id": "yroGSoRJhAgn",
        "outputId": "dd84ef66-231e-4701-d75b-4bd574dff6fb"
      },
      "outputs": [
        {
          "output_type": "stream",
          "name": "stdout",
          "text": [
            "<class '__main__.car'>\n"
          ]
        }
      ],
      "source": [
        "#class is the blueprint for creating objects, attributes and methods.\n",
        "class car:\n",
        "  pass\n",
        "audi=car()\n",
        "bmw=car()\n",
        "print(type(audi))"
      ]
    },
    {
      "cell_type": "code",
      "source": [
        "from os import name\n",
        "#instance variable & methods\n",
        "class dog:\n",
        "  def __init__(self,name,breed):\n",
        "    self.name=name\n",
        "    self.breed=breed\n",
        "  def bark(self):\n",
        "    print(f'{self.name} says woof!')\n",
        "    print(f'his breed is {self.breed}.')\n",
        "#creating object\n",
        "dog1= dog('tommy','pug')\n",
        "dog1.bark()\n",
        "print()\n",
        "dog2= dog('max','golden retriever')\n",
        "dog2.bark()"
      ],
      "metadata": {
        "colab": {
          "base_uri": "https://localhost:8080/"
        },
        "id": "UIhLrLar5yGY",
        "outputId": "ca159676-9e82-4728-c488-3c66d8b08758"
      },
      "execution_count": null,
      "outputs": [
        {
          "output_type": "stream",
          "name": "stdout",
          "text": [
            "tommy says woof!\n",
            "his breed is pug.\n",
            "\n",
            "max says woof!\n",
            "his breed is golden retriever.\n"
          ]
        }
      ]
    },
    {
      "cell_type": "code",
      "source": [
        "#creating a bank account\n",
        "import random as rd\n",
        "\n",
        "class bank_acc:\n",
        "  def __init__(self,name,balance=0,acc_no=0):\n",
        "    self.name= name\n",
        "    self.balance=balance\n",
        "    self.acc_no=acc_no\n",
        "  def create_acc(self):\n",
        "    self.acc_no=rd.randint(1000000000,9999999999)\n",
        "    return self.acc_no\n",
        "  def deposit(self,amount):\n",
        "    self.balance+=amount\n",
        "    return self.balance\n",
        "  def withdraw(self,amount):\n",
        "    if amount>self.balance:\n",
        "      return 'Insufficient balance'\n",
        "    else:\n",
        "      self.balance-=amount\n",
        "      return self.balance\n",
        "  def check_balance(self):\n",
        "    return self.balance\n",
        "\n",
        "krish = bank_acc('krish')\n",
        "print(krish.create_acc())\n",
        "print(krish.deposit(1000))\n",
        "print(krish.withdraw(500))\n",
        "print(krish.check_balance())"
      ],
      "metadata": {
        "colab": {
          "base_uri": "https://localhost:8080/"
        },
        "id": "hRzEgmjU-6oO",
        "outputId": "a13edcd6-cfa5-4a7a-a742-8f642a8886a5"
      },
      "execution_count": null,
      "outputs": [
        {
          "output_type": "stream",
          "name": "stdout",
          "text": [
            "1278376033\n",
            "1000\n",
            "500\n",
            "500\n"
          ]
        }
      ]
    },
    {
      "cell_type": "markdown",
      "source": [
        "# **Inheritance in Python:**\n",
        "\n",
        "**This is the fundamental concept in OOP. This allows class to inherit attributes and methods from another class.**"
      ],
      "metadata": {
        "id": "WHn4_mL3EBOW"
      }
    },
    {
      "cell_type": "code",
      "source": [
        "#lets create a class that inherits attributes and methods from parent class\n",
        "class car:\n",
        "  def __init__(self,doors,windows,name):\n",
        "    self.doors= doors\n",
        "    self.windows= windows\n",
        "    self.name= name\n",
        "  def drive(self):\n",
        "    print(f\"{self.name} has {self.windows} windows and {self.doors} doors.\")\n",
        "\n",
        "class electric(car):    ####here class electric is extending or inheriting from class car\n",
        "  def __init__(self,doors,windows,name,company_name):\n",
        "    super().__init__(doors,windows,name) #####here super() method is used to take super props from the parent class.\n",
        "    self.company_name=company_name\n",
        "  def electric_drive(self):\n",
        "    print(f\"{self.name} is model of {self.company_name} company\")\n",
        "\n",
        "tata= electric(4,4,'Nexon','Tata motors')\n",
        "tata.electric_drive()\n",
        "tata.drive()\n",
        "####the above method is of single inheritance.\n",
        "### super() method is used when we are inheriting from one class."
      ],
      "metadata": {
        "id": "ZyU8EYA0DMDt",
        "colab": {
          "base_uri": "https://localhost:8080/"
        },
        "outputId": "a3d833cf-f639-46b0-c94c-1538d3651850"
      },
      "execution_count": null,
      "outputs": [
        {
          "output_type": "stream",
          "name": "stdout",
          "text": [
            "Nexon is model of Tata motors company\n",
            "Nexon has 4 windows and 4 doors.\n"
          ]
        }
      ]
    },
    {
      "cell_type": "code",
      "source": [
        "#now we will see multiple inheritance\n",
        "### multiple inheritance is the case when class inherits from more than one class.\n",
        "\n",
        "class car:\n",
        "  def __init__(self,model_name):\n",
        "    self.model_name= model_name\n",
        "\n",
        "class person:\n",
        "  def __init__(self,name):\n",
        "    self.name= name\n",
        "\n",
        "class owner(car, person):\n",
        "  def __init__(self,model_name,name):\n",
        "    car.__init__(self,model_name) #### here instead of using super() method we used the actual name of the class\n",
        "    person.__init__(self,name) ### this is because we are inheriting from the multiple classes at a time.\n",
        "  def ownership(self):\n",
        "    print(f'{self.name} owns {self.model_name}')\n",
        "\n",
        "rishabh = owner('Tata Punch','Rishabh')\n",
        "rishabh.ownership()"
      ],
      "metadata": {
        "colab": {
          "base_uri": "https://localhost:8080/"
        },
        "id": "zA-LcZiphdZQ",
        "outputId": "8ec0b7be-5e24-49fc-a0da-0e536f03e7fc"
      },
      "execution_count": null,
      "outputs": [
        {
          "output_type": "stream",
          "name": "stdout",
          "text": [
            "Rishabh owns Tata Punch\n"
          ]
        }
      ]
    },
    {
      "cell_type": "markdown",
      "source": [
        "# **Polymorphism :**\n",
        "\n",
        "---\n",
        "\n",
        "\n",
        "\n",
        "**polymorphism** is the core concept in the OOP that allows object of different classes to be treated as objects of common superclass. it provides a way to persform a single action in different forms. polymorphism is typically achieved through method overriding and interfaces.\n",
        "\n",
        "**Method overriding** allows the child class to provide a specific implementation of a method that is already defined in its parent class"
      ],
      "metadata": {
        "id": "bf2-wwhdlrwp"
      }
    },
    {
      "cell_type": "code",
      "source": [
        "# lets see method overriding\n",
        "class animal:\n",
        "  def speak(self):\n",
        "    return 'sound of animal'\n",
        "class dog(animal):\n",
        "  def speak(self):\n",
        "    return 'woof!' #here we are overriding the speak method present in the parent class\n",
        "class cat(animal):\n",
        "  def speak(self):\n",
        "    return 'meow!' # same goes for here\n",
        "\n",
        "dog = dog()\n",
        "cat = cat()\n",
        "print(dog.speak())\n",
        "print(cat.speak())"
      ],
      "metadata": {
        "colab": {
          "base_uri": "https://localhost:8080/"
        },
        "id": "VbCDjrb2kfRX",
        "outputId": "de8b72a7-69b9-4613-c9d9-b27125a9f5d6"
      },
      "execution_count": null,
      "outputs": [
        {
          "output_type": "stream",
          "name": "stdout",
          "text": [
            "woof!\n",
            "meow!\n"
          ]
        }
      ]
    },
    {
      "cell_type": "code",
      "source": [
        "# lets use function with the classes\n",
        "\n",
        "class shape:\n",
        "  def area(self):\n",
        "    return 'area of the shape'\n",
        "\n",
        "class square(shape):\n",
        "  def __init__(self,side):\n",
        "    self.side = side\n",
        "  def area(self):\n",
        "    return self.side*self.side ##method overriden\n",
        "\n",
        "class circle(shape):\n",
        "  def __init__(self,radius):\n",
        "    self.radius = radius\n",
        "  def area(self):\n",
        "    return 3.14*self.radius*self.radius ##method overriden\n",
        "\n",
        "class rectangle(shape):\n",
        "  def __init__(self,length,breadth):\n",
        "    self.length= length\n",
        "    self.breadth = breadth\n",
        "  def area(self):\n",
        "    return self.length*self.breadth ## method overriden\n",
        "\n",
        "def find_area(shape):\n",
        "  print(f'the area of the is {shape.area()}')\n",
        "\n",
        "square = square(4)\n",
        "rectangle = rectangle(3,4)\n",
        "circle = circle(5)\n",
        "\n",
        "find_area(square)\n",
        "find_area(rectangle)\n",
        "find_area(circle)"
      ],
      "metadata": {
        "colab": {
          "base_uri": "https://localhost:8080/"
        },
        "id": "jlu7c-tRrGhL",
        "outputId": "b88a278c-79d7-4a81-e4cf-53890a6d05de"
      },
      "execution_count": null,
      "outputs": [
        {
          "output_type": "stream",
          "name": "stdout",
          "text": [
            "the area of the is 16\n",
            "the area of the is 12\n",
            "the area of the is 78.5\n"
          ]
        }
      ]
    },
    {
      "cell_type": "markdown",
      "source": [
        "# **Polymorphism with abstract base classes:**\n",
        "\n",
        "---\n",
        "\n",
        "\n",
        "\n",
        "**Abstract base classes (ABCs)** are used to define common methods for a group of related objects. they can enforce that the derive classes implement perticular methods, promoting consistency across different implementations."
      ],
      "metadata": {
        "id": "rTcrMbZzt-RE"
      }
    },
    {
      "cell_type": "code",
      "source": [
        "from abc import ABC, abstractmethod\n",
        "\n",
        "class animal(ABC):\n",
        "  @abstractmethod\n",
        "  def speak(self):\n",
        "    pass\n",
        "\n",
        "class dog(animal):\n",
        "  def speak(self):\n",
        "    return 'woof!'\n",
        "\n",
        "class cat(animal):\n",
        "  def speak(self):\n",
        "    return 'meow!'\n",
        "\n",
        "\n",
        "def animal_sound(animal):\n",
        "  print(animal.speak())\n",
        "\n",
        "dog = dog()\n",
        "cat = cat()\n",
        "\n",
        "animal_sound(dog)\n",
        "animal_sound(cat)"
      ],
      "metadata": {
        "colab": {
          "base_uri": "https://localhost:8080/"
        },
        "id": "6YF_IX2PtTt7",
        "outputId": "a85bdd22-e5f6-4c00-a620-4c927c3ac0b4"
      },
      "execution_count": null,
      "outputs": [
        {
          "output_type": "stream",
          "name": "stdout",
          "text": [
            "woof!\n",
            "meow!\n"
          ]
        }
      ]
    },
    {
      "cell_type": "markdown",
      "source": [
        "# **ENCAPSULATION & ABSTRACTION**\n",
        "\n",
        "---\n",
        "encapsulation and abstraction are two fundamental principles of OOPS that helps in designing  robust, maintainable and reusable code. encapsulation involves building data and methods that operate on the data  within a single unit, while abstraction involves hiding complex implementation details and exposing only necessary features.\n"
      ],
      "metadata": {
        "id": "6J-8WOSJwHBu"
      }
    },
    {
      "cell_type": "markdown",
      "source": [
        "**Encapsulation :**\n",
        "\n",
        "it is concept of wrapping data (variables) and methods (functions) together as a single unit. it restricts direct access to some of the object's components, which is means of preventing accidental interface and misuse of data."
      ],
      "metadata": {
        "id": "NUizoAi9wqLp"
      }
    },
    {
      "cell_type": "code",
      "source": [
        "#encapsulation using getter and setter methods.\n",
        "#public, protected and private variables\n",
        "class person:\n",
        "  def __init__(self,name,age):\n",
        "    self.name= name #this is public variable\n",
        "    self.age= age #this is public variable\n",
        "\n",
        "def get_name(person):\n",
        "  return person.name\n",
        "\n",
        "person1 = person('krish',20)\n",
        "get_name(person1)\n"
      ],
      "metadata": {
        "colab": {
          "base_uri": "https://localhost:8080/",
          "height": 36
        },
        "id": "p_-Xthaxv_W2",
        "outputId": "d62d99f9-470c-4470-da3c-40c6cd78305b"
      },
      "execution_count": null,
      "outputs": [
        {
          "output_type": "execute_result",
          "data": {
            "text/plain": [
              "'krish'"
            ],
            "application/vnd.google.colaboratory.intrinsic+json": {
              "type": "string"
            }
          },
          "metadata": {},
          "execution_count": 13
        }
      ]
    },
    {
      "cell_type": "code",
      "source": [
        "#to get list of attributes of the class simply run below command\n",
        "dir(person1)"
      ],
      "metadata": {
        "colab": {
          "base_uri": "https://localhost:8080/"
        },
        "id": "sVJWehuTH5ZA",
        "outputId": "bbeb4797-fe2b-4aef-8572-83cee052fb6e"
      },
      "execution_count": null,
      "outputs": [
        {
          "output_type": "execute_result",
          "data": {
            "text/plain": [
              "['__class__',\n",
              " '__delattr__',\n",
              " '__dict__',\n",
              " '__dir__',\n",
              " '__doc__',\n",
              " '__eq__',\n",
              " '__format__',\n",
              " '__ge__',\n",
              " '__getattribute__',\n",
              " '__gt__',\n",
              " '__hash__',\n",
              " '__init__',\n",
              " '__init_subclass__',\n",
              " '__le__',\n",
              " '__lt__',\n",
              " '__module__',\n",
              " '__ne__',\n",
              " '__new__',\n",
              " '__reduce__',\n",
              " '__reduce_ex__',\n",
              " '__repr__',\n",
              " '__setattr__',\n",
              " '__sizeof__',\n",
              " '__str__',\n",
              " '__subclasshook__',\n",
              " '__weakref__',\n",
              " 'age',\n",
              " 'name']"
            ]
          },
          "metadata": {},
          "execution_count": 14
        }
      ]
    },
    {
      "cell_type": "code",
      "source": [
        "#lets see private variable : we cannot access these variables outside the class\n",
        "class person:\n",
        "  def __init__(self,name,age):\n",
        "    self.__name = name\n",
        "    self.__age = age\n",
        "person = person('Raaj', 20)\n",
        "print(person._person__name)\n",
        "\n",
        "# see here we will get error if we try to access variable which is private like 'person.__name'.\n",
        "# and this varible is not stored as '__name' it is stored like '_person__name'. if we try to access it like\n",
        "# 'person._person__name' we will get the result"
      ],
      "metadata": {
        "colab": {
          "base_uri": "https://localhost:8080/"
        },
        "id": "0G4juCUFJEaP",
        "outputId": "3eadc044-770c-4f2b-9588-2b26dd96befa"
      },
      "execution_count": null,
      "outputs": [
        {
          "output_type": "stream",
          "name": "stdout",
          "text": [
            "Raaj\n"
          ]
        }
      ]
    },
    {
      "cell_type": "code",
      "source": [
        "print(person._person__name)"
      ],
      "metadata": {
        "colab": {
          "base_uri": "https://localhost:8080/"
        },
        "id": "CLWufLA8KKA3",
        "outputId": "b932b807-88e6-4dd8-d2b8-b4be7be82923"
      },
      "execution_count": null,
      "outputs": [
        {
          "output_type": "stream",
          "name": "stdout",
          "text": [
            "Raaj\n"
          ]
        }
      ]
    },
    {
      "cell_type": "code",
      "source": [
        "# now lets see protected variable : we cannot access this variable directly out of the class.\n",
        "# but we can access this variable using derived class.\n",
        "class human:\n",
        "  def __init__(self,name,age):\n",
        "    self._name= name # '_name' is protected variable\n",
        "    self._age = age # for writing protected variable single underscore before the name is used\n",
        "class employee(human): # while for writing private variable double underscore before the name is used.\n",
        "  def __init__(self,name,age,salary):\n",
        "    super().__init__(name,age)\n",
        "    self.salary= salary\n",
        "\n",
        "harshit = employee('harshit',20,10000)\n",
        "print(harshit._name)\n",
        "print(harshit._age)\n",
        "print(harshit.salary)\n",
        "\n",
        "#here we accessed the protected variable through derived class employee\n"
      ],
      "metadata": {
        "colab": {
          "base_uri": "https://localhost:8080/"
        },
        "id": "UutIrB92KcL0",
        "outputId": "ac99f0cd-243b-442a-daae-e4dfbf0a114d"
      },
      "execution_count": null,
      "outputs": [
        {
          "output_type": "stream",
          "name": "stdout",
          "text": [
            "harshit\n",
            "20\n",
            "10000\n"
          ]
        }
      ]
    },
    {
      "cell_type": "code",
      "source": [
        "# as we have seen that we cannot access the private variables outside the class\n",
        "# we can access them using getter and setter methods\n",
        "\n",
        "class person:\n",
        "  def __init__(self,name,age):\n",
        "    self.__name = name\n",
        "    self.__age = age\n",
        "  def get_name(self): #getter method for accessing the private variable outside the class\n",
        "    return self.__name\n",
        "  def set_name(self,name): # setter method for changing or setting or giving the value to the private variable\n",
        "      self.__name = name\n",
        "  def get_age(self):\n",
        "    return self.__age\n",
        "  def set_age(self,age):\n",
        "    self.__age = age\n",
        "\n",
        "person = person('krish',20)\n",
        "print(person.get_name())\n",
        "print(person.get_age())\n",
        "person.set_name('harshit')\n",
        "person.set_age(21)\n",
        "print(person.get_name())\n",
        "print(person.get_age())"
      ],
      "metadata": {
        "colab": {
          "base_uri": "https://localhost:8080/"
        },
        "id": "mJTH2CQvLgBF",
        "outputId": "f7404958-fc55-4668-ac87-bf186075432f"
      },
      "execution_count": null,
      "outputs": [
        {
          "output_type": "stream",
          "name": "stdout",
          "text": [
            "krish\n",
            "20\n",
            "harshit\n",
            "21\n"
          ]
        }
      ]
    },
    {
      "cell_type": "markdown",
      "source": [
        "**Abstraction:**\n",
        "\n",
        "abstraction is the concept of hiding the complex implementation details and showing only the necessary features of an object. this helps in reducing programming complexity and efforts."
      ],
      "metadata": {
        "id": "VxSIipdEPpen"
      }
    },
    {
      "cell_type": "markdown",
      "source": [
        "# **Magic methods in pythons**\n",
        "\n",
        "---\n",
        "Magic methods are also called as **dunder methods or double underscore methods**. which start and end using double underscores. these enable u to define the behavior of the objects for built-in operations such as comarison operation, arithmatic operations etc. magic methods are predefined methods in python which u can override to change the behavior of the object.\n",
        "\n",
        "\n",
        "\n",
        "\n",
        "\n",
        "\n"
      ],
      "metadata": {
        "id": "WAIs_obdRQXB"
      }
    },
    {
      "cell_type": "code",
      "source": [
        "\"\"\"\n",
        "some common magic methods in python:\n",
        "\n",
        "1. '__init__' = initializes new instance of the class.\n",
        "2. '__str__' = returns a string initialization of an object.\n",
        "3. '__repr__' = returns an official string representation of an object.\n",
        "4. '__len__' =  returns a length of an object.\n",
        "5. '__getitem__' = gets an item from the container.\n",
        "6. '__setitem__' = sets an item in the container\n",
        "\"\"\""
      ],
      "metadata": {
        "id": "exwfRNqMPJV5"
      },
      "execution_count": null,
      "outputs": []
    },
    {
      "cell_type": "code",
      "source": [
        "#lets see the use case of '__str__' method\n",
        "class cars :\n",
        "  def __init__(self,model_name,company_name):\n",
        "    self.model_name = model_name\n",
        "    self.company_name = company_name\n",
        "tata = cars('nexon','tata motors')\n",
        "print(tata)\n",
        "\n",
        "# for the above class output is like this :  <__main__.cars object at 0x7d415da39660>\n",
        "\n",
        "# now we will use '__str__' method\n",
        "\n",
        "class car1:\n",
        "  def __init__(self,model_name,company_name):\n",
        "    self.model_name = model_name\n",
        "    self.company_name = company_name\n",
        "  def __str__(self):\n",
        "    return f'{self.model_name} is model of {self.company_name}'\n",
        "tata1 = car1('nexon','tata motors')\n",
        "print(tata1)\n",
        "\n",
        "# for this we are getting output as : nexon is model of tata motors\n",
        "# so this is what we can do using str method"
      ],
      "metadata": {
        "colab": {
          "base_uri": "https://localhost:8080/"
        },
        "id": "1jTXc3jkTq8v",
        "outputId": "9e1a7d08-4446-415d-a24f-44bbbaf559cc"
      },
      "execution_count": null,
      "outputs": [
        {
          "output_type": "stream",
          "name": "stdout",
          "text": [
            "<__main__.cars object at 0x7d415dda4280>\n",
            "nexon is model of tata motors\n"
          ]
        }
      ]
    },
    {
      "cell_type": "markdown",
      "source": [
        "**Operator overloading:**\n",
        "\n",
        "operator overloading allows u to define the behaviors of the operators of specific classes. u achieve this by overriding some magic methods."
      ],
      "metadata": {
        "id": "pY7bWjipVV74"
      }
    },
    {
      "cell_type": "code",
      "source": [
        "## common operator overriding magic methods\n",
        "\n",
        "\"\"\"\n",
        "1. __add__(self,other) = adds two objects.\n",
        "2. __sub__(self,other) = subtracts two objects.\n",
        "3. __mul__(self,other) = multiplies\n",
        "4. __truediv__(self,other) = divides two object using / operator.\n",
        "5. __floordiv__(self,other) = divides two objects using // operator.\n",
        "6. __mod__(self, other): Implements behavior for the % operator\n",
        "7. __pow__(self, other): Implements behavior for the ** operator\n",
        "8. __and__(self, other): Implements behavior for the & operator\n",
        "9. __or__(self, other): Implements behavior for the | operator\n",
        "10. __xor__(self, other): Implements behavior for the ^ operator\n",
        "11. __lshift__(self, other): Implements behavior for the << operator\n",
        "12. __rshift__(self, other): Implements behavior for the >> operator\n",
        "13. __eq__(self, other): Implements behavior for the == operator\n",
        "14. __ne__(self, other): Implements behavior for the != operator\n",
        "15. __lt__(self, other): Implements behavior for the < operator\n",
        "16. __le__(self, other): Implements behavior for the <= operator\n",
        "17. __gt__(self, other): Implements behavior for the > operator\n",
        "18. __ge__(self, other): Implements behavior for the >= operator\n",
        "\"\"\""
      ],
      "metadata": {
        "id": "nvkLAc9TVUfw"
      },
      "execution_count": null,
      "outputs": []
    },
    {
      "cell_type": "markdown",
      "source": [
        "# **Custom Exception:**\n",
        "\n",
        "**custom exception is nothing but we inherit attributes and methods from the exception class.**"
      ],
      "metadata": {
        "id": "Gks-3yJsXi0h"
      }
    },
    {
      "cell_type": "code",
      "source": [
        "class error(Exception):\n",
        "  pass\n",
        "class dobError(error):\n",
        "  pass\n",
        "year = int(input('enter the year of birth'))\n",
        "age = 2024-year\n",
        "try:\n",
        "  if (age<=30) & (age>18):\n",
        "    print('the age is valid')\n",
        "  else:\n",
        "    raise dobError\n",
        "except dobError:\n",
        "  print('the age is not valid')"
      ],
      "metadata": {
        "colab": {
          "base_uri": "https://localhost:8080/"
        },
        "id": "XKjn-n_tT8l7",
        "outputId": "a955c457-0d54-4bf9-bb2f-b928d6d1bd79"
      },
      "execution_count": null,
      "outputs": [
        {
          "output_type": "stream",
          "name": "stdout",
          "text": [
            "enter the year of birth2005\n",
            "the age is valid\n"
          ]
        }
      ]
    },
    {
      "cell_type": "markdown",
      "source": [
        "# **Iterators:**\n",
        "\n",
        "**iterators are advanced python concepts that allow for efficient looping and memory management. iterators provide a way to access elements of a collection sequentially without exposing the underlying structure.**"
      ],
      "metadata": {
        "id": "H_q-lY-1abu4"
      }
    },
    {
      "cell_type": "code",
      "source": [
        "my_list = [1,2,3,4,5]"
      ],
      "metadata": {
        "id": "dsI94UEjYDeL"
      },
      "execution_count": null,
      "outputs": []
    },
    {
      "cell_type": "code",
      "source": [
        "iterator = iter(my_list) # we use iter keyword to iterate over list one by one"
      ],
      "metadata": {
        "id": "99e80-nPbAhS"
      },
      "execution_count": null,
      "outputs": []
    },
    {
      "cell_type": "code",
      "source": [
        "try:\n",
        "  print(next(iterator)) # next(variable_name) iterate over the list one by one at a time.\n",
        "except StopIteration:\n",
        "  print('no more elements in the list')"
      ],
      "metadata": {
        "colab": {
          "base_uri": "https://localhost:8080/"
        },
        "id": "g_ky_OGybxGg",
        "outputId": "4caf63f9-f173-4b87-fbb9-1c5cafc4146c"
      },
      "execution_count": null,
      "outputs": [
        {
          "output_type": "stream",
          "name": "stdout",
          "text": [
            "\n"
          ]
        }
      ]
    },
    {
      "cell_type": "markdown",
      "source": [
        "# **Generators:**\n",
        "\n",
        "**generators are simpler way to create iterators. they use 'yield' keyword to produce a series of values lazily, which means they generate values on the fly and do not store them in the memory**"
      ],
      "metadata": {
        "id": "r0t58Jt4cU89"
      }
    },
    {
      "cell_type": "code",
      "source": [
        "def square(n):\n",
        "  for i in range(n):\n",
        "    return i**2\n",
        "\n",
        "square(3)\n",
        "# here we will get answer as zero because the it will return the square of first index i.e. 0\n",
        "# so to get squares of elements throughout the loop we will have to create a generator object."
      ],
      "metadata": {
        "colab": {
          "base_uri": "https://localhost:8080/"
        },
        "id": "UmQ2PYpGb5zV",
        "outputId": "c3cba495-d3f4-41cc-da6e-76a0f8a3b41b"
      },
      "execution_count": null,
      "outputs": [
        {
          "output_type": "execute_result",
          "data": {
            "text/plain": [
              "0"
            ]
          },
          "metadata": {},
          "execution_count": 67
        }
      ]
    },
    {
      "cell_type": "code",
      "source": [
        "#generator object is created using yield keyword\n",
        "def square(n):\n",
        "  for i in range(n):\n",
        "    yield i**2\n"
      ],
      "metadata": {
        "id": "IvIQ7u2neiw6"
      },
      "execution_count": null,
      "outputs": []
    },
    {
      "cell_type": "code",
      "source": [
        "# now to get these values we will loop through the function\n",
        "\n",
        "for i in square(4):\n",
        "  print(i)"
      ],
      "metadata": {
        "colab": {
          "base_uri": "https://localhost:8080/"
        },
        "id": "Ui6PGFwIfHTN",
        "outputId": "777fc8b3-a153-424e-93de-d3283bc38f30"
      },
      "execution_count": null,
      "outputs": [
        {
          "output_type": "stream",
          "name": "stdout",
          "text": [
            "0\n",
            "1\n",
            "4\n",
            "9\n"
          ]
        }
      ]
    },
    {
      "cell_type": "code",
      "source": [
        "#  also we can iterate over this square() using next keyword\n",
        "a= square(4)"
      ],
      "metadata": {
        "id": "XPo4OTdYfcnZ"
      },
      "execution_count": null,
      "outputs": []
    },
    {
      "cell_type": "code",
      "source": [
        "next(a)"
      ],
      "metadata": {
        "colab": {
          "base_uri": "https://localhost:8080/"
        },
        "id": "FNE8gxHCfzXl",
        "outputId": "30cc7cf9-7d02-45cb-d0df-087e0b1b7f6b"
      },
      "execution_count": null,
      "outputs": [
        {
          "output_type": "execute_result",
          "data": {
            "text/plain": [
              "0"
            ]
          },
          "metadata": {},
          "execution_count": 80
        }
      ]
    },
    {
      "cell_type": "markdown",
      "source": [
        "**Practical example of generator for reading large files.**\n",
        "\n",
        "generators are useful in reading large files as they allow u to read the file line by line instead of loading the entire file into the memory."
      ],
      "metadata": {
        "id": "vsnuvop6gRT6"
      }
    },
    {
      "cell_type": "code",
      "source": [
        "def read_large_file(file_path):\n",
        "  with open(file_path,'r') as file:\n",
        "    for line in file:\n",
        "      yield line"
      ],
      "metadata": {
        "id": "nbSJk749gLw6"
      },
      "execution_count": null,
      "outputs": []
    },
    {
      "cell_type": "code",
      "source": [
        "file_path = 'large_file.txt'\n",
        "for line in read_large_file(file_path):\n",
        "  print(line)"
      ],
      "metadata": {
        "colab": {
          "base_uri": "https://localhost:8080/"
        },
        "id": "k0JixZyUg84y",
        "outputId": "2e4d3a54-f4c1-47bf-9a6c-67094c69749d"
      },
      "execution_count": null,
      "outputs": [
        {
          "output_type": "stream",
          "name": "stdout",
          "text": [
            "hello world 1\n",
            "\n",
            "hello world 2\n",
            "\n",
            "hello world 3\n",
            "\n",
            "hello world 4\n",
            "\n",
            "hello world 5\n",
            "\n",
            "hello world 6\n",
            "\n",
            "hello world 7\n",
            "\n",
            "hello world 8\n",
            "\n",
            "hello world 9\n",
            "\n",
            "hello world 10\n",
            "\n",
            "hello world 11\n",
            "\n",
            "hello world 12\n",
            "\n",
            "hello world 13\n",
            "\n",
            "hello world 14\n",
            "\n",
            "hello world 15\n",
            "\n",
            "hello world 16\n",
            "\n",
            "hello world 17\n",
            "\n",
            "hello world 18\n",
            "\n"
          ]
        }
      ]
    },
    {
      "cell_type": "markdown",
      "source": [
        "# **Decorators, Closures, Copy functions**"
      ],
      "metadata": {
        "id": "5SZ8KR-Bd1J8"
      }
    },
    {
      "cell_type": "markdown",
      "source": [
        "decorators are a powerful flexible feature in python that allows you to modify the behavior of the function and class method. they are commonly used to add functionality to functions or methods without modifying their actual code."
      ],
      "metadata": {
        "id": "MlXg27aTd5ps"
      }
    },
    {
      "cell_type": "code",
      "source": [
        "#function copy\n",
        "def welcome():\n",
        "  print('hey there.')\n",
        "wel = welcome\n",
        "wel()\n",
        "#so now if we even delete the welcome method by del keyword then also our wel will work, because welcome is copied into wel"
      ],
      "metadata": {
        "id": "7KNzlPmghjFn",
        "outputId": "584a15ba-bfbc-4065-8139-b877508d4c4e",
        "colab": {
          "base_uri": "https://localhost:8080/"
        }
      },
      "execution_count": 1,
      "outputs": [
        {
          "output_type": "stream",
          "name": "stdout",
          "text": [
            "hey there.\n"
          ]
        }
      ]
    },
    {
      "cell_type": "code",
      "source": [
        "#closures : they are function sinside the functions\n",
        "def main_method(msg):\n",
        "  def sub_method():\n",
        "    print(msg)\n",
        "    print('this is submethods output')\n",
        "  return sub_method()\n",
        "\n",
        "main_method('this is main method output')\n",
        "\n"
      ],
      "metadata": {
        "id": "AWJd-xXRfPRA",
        "outputId": "f4d84de6-3896-408a-8763-b0660378f527",
        "colab": {
          "base_uri": "https://localhost:8080/"
        }
      },
      "execution_count": 4,
      "outputs": [
        {
          "output_type": "stream",
          "name": "stdout",
          "text": [
            "this is main method output\n",
            "this is submethods output\n"
          ]
        }
      ]
    },
    {
      "cell_type": "code",
      "source": [
        "#passing function inside the closure function"
      ],
      "metadata": {
        "id": "0_YvRZWmht6K"
      },
      "execution_count": null,
      "outputs": []
    },
    {
      "cell_type": "code",
      "source": [
        "#1st type of passing function as parameter in closures\n",
        "def greet_msg():\n",
        "  print('greetings user!')\n",
        "greet_user = greet_msg\n",
        "def welcome_user(greet_user):#note that here we are passing greet_user as parameter\n",
        "  def say_hello():\n",
        "    print('this is sub method')\n",
        "    greet_user()\n",
        "  return say_hello()\n",
        "\n",
        "welcome_user(greet_user)#here we are passing greet_user as argument, we have to write greet_user here only welcome_user() method will won't work."
      ],
      "metadata": {
        "id": "nUtb6kzkhtwZ",
        "outputId": "9cf8aed2-29f8-404c-90c5-fc4d1ae2ae35",
        "colab": {
          "base_uri": "https://localhost:8080/"
        }
      },
      "execution_count": 7,
      "outputs": [
        {
          "output_type": "stream",
          "name": "stdout",
          "text": [
            "this is sub method\n",
            "greetings user!\n"
          ]
        }
      ]
    },
    {
      "cell_type": "code",
      "source": [
        "#now we will see second type of passing function as parameter in closure\n",
        "def greet_msg():\n",
        "  print('greetings user!')\n",
        "def welcome1(function):\n",
        "  def say_hello():\n",
        "    print('this is sub method')\n",
        "    function()\n",
        "  return say_hello()\n",
        "\n",
        "welcome1(greet_msg)"
      ],
      "metadata": {
        "id": "eUQSBCechtMU",
        "outputId": "51526928-9ecb-415e-bf8c-abcc0009a9e0",
        "colab": {
          "base_uri": "https://localhost:8080/"
        }
      },
      "execution_count": 9,
      "outputs": [
        {
          "output_type": "stream",
          "name": "stdout",
          "text": [
            "this is sub method\n",
            "greetings user!\n"
          ]
        }
      ]
    },
    {
      "cell_type": "code",
      "source": [
        "# decorators : as we have seen earlier that we can pass functions inside the closure this is simliar to them.\n",
        "def write(func):\n",
        "  def write_msg():\n",
        "    print('writing my message')\n",
        "    func()\n",
        "  return write_msg()\n",
        "\n",
        "@write # we you '@' symbol while write decorators\n",
        "def msg():\n",
        "  print('You are not authorised to read the msg')"
      ],
      "metadata": {
        "id": "J48oblW3hs6A",
        "outputId": "87107e55-16c1-4e5f-933d-88bd4611418c",
        "colab": {
          "base_uri": "https://localhost:8080/"
        }
      },
      "execution_count": 10,
      "outputs": [
        {
          "output_type": "stream",
          "name": "stdout",
          "text": [
            "writing my message\n",
            "You are not authorised to read the msg\n"
          ]
        }
      ]
    }
  ]
}