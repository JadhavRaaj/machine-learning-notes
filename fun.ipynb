{
 "cells": [
  {
   "cell_type": "code",
   "execution_count": 1,
   "id": "831a841c-fb0b-4a69-9885-ba3110d8cf99",
   "metadata": {},
   "outputs": [
    {
     "name": "stdout",
     "output_type": "stream",
     "text": [
      "[1, 4, 9, 16, 25]\n"
     ]
    }
   ],
   "source": [
    "num=[1,2,3,4,5]\n",
    "num_sqr=[]\n",
    "for i in num:\n",
    "    num_sqr.append(i**2)\n",
    "\n",
    "print(num_sqr)"
   ]
  },
  {
   "cell_type": "code",
   "execution_count": null,
   "id": "ddd76f90-72cd-4c46-9b51-30a2e1207474",
   "metadata": {},
   "outputs": [],
   "source": []
  }
 ],
 "metadata": {
  "kernelspec": {
   "display_name": "Python 3 (ipykernel)",
   "language": "python",
   "name": "python3"
  },
  "language_info": {
   "codemirror_mode": {
    "name": "ipython",
    "version": 3
   },
   "file_extension": ".py",
   "mimetype": "text/x-python",
   "name": "python",
   "nbconvert_exporter": "python",
   "pygments_lexer": "ipython3",
   "version": "3.12.4"
  }
 },
 "nbformat": 4,
 "nbformat_minor": 5
}
