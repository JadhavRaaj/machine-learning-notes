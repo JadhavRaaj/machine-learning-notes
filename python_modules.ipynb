{
  "nbformat": 4,
  "nbformat_minor": 0,
  "metadata": {
    "colab": {
      "provenance": [],
      "authorship_tag": "ABX9TyNbHz+pqEH3DNg6ibKkHmUU",
      "include_colab_link": true
    },
    "kernelspec": {
      "name": "python3",
      "display_name": "Python 3"
    },
    "language_info": {
      "name": "python"
    }
  },
  "cells": [
    {
      "cell_type": "markdown",
      "metadata": {
        "id": "view-in-github",
        "colab_type": "text"
      },
      "source": [
        "<a href=\"https://colab.research.google.com/github/nighteye2/machine-learning-notes/blob/main/python_modules.ipynb\" target=\"_parent\"><img src=\"https://colab.research.google.com/assets/colab-badge.svg\" alt=\"Open In Colab\"/></a>"
      ]
    },
    {
      "cell_type": "code",
      "execution_count": null,
      "metadata": {
        "colab": {
          "base_uri": "https://localhost:8080/"
        },
        "id": "jd_-XPEeYby2",
        "outputId": "97a3f4f9-264c-499f-f21a-1ab4f5239f47"
      },
      "outputs": [
        {
          "output_type": "stream",
          "name": "stdout",
          "text": [
            "4.0\n",
            "3.141592653589793\n"
          ]
        }
      ],
      "source": [
        "from math import sqrt,pi\n",
        "print(sqrt(16))\n",
        "print(pi)"
      ]
    },
    {
      "cell_type": "code",
      "source": [
        "import numpy as np\n",
        "np.array([1,2,3,4,5])"
      ],
      "metadata": {
        "colab": {
          "base_uri": "https://localhost:8080/"
        },
        "id": "-zck4ql1NErn",
        "outputId": "38f7dde2-017d-4a48-f534-11ed8a4314bf"
      },
      "execution_count": null,
      "outputs": [
        {
          "output_type": "execute_result",
          "data": {
            "text/plain": [
              "array([1, 2, 3, 4, 5])"
            ]
          },
          "metadata": {},
          "execution_count": 4
        }
      ]
    },
    {
      "cell_type": "markdown",
      "source": [
        "# **for creating your own packages:**\n",
        "\n",
        "1) create package directory let's say named 'package'\n",
        "\n",
        "2) Inside this package directory create '__init__.py' file. this file is used to create and initialize packages.(double underscore init double underscore dot py)\n",
        "\n",
        "3)inside this package directory create ur module. let's say named 'operation'. the init file is mostly empty.\n",
        "\n",
        "4)then call this module in the file using 'from package.operation import *'.\n",
        "\n",
        "5)now u will be able to use the module functionality."
      ],
      "metadata": {
        "id": "heEpV-aRO6te"
      }
    },
    {
      "cell_type": "code",
      "source": [
        "#random package\n",
        "import random\n",
        "print(random.randint(1,100))\n",
        "print(random.choice(['Raaj','Dhiraj','Kedar','Anuj','Abhijeet','Sahil']))"
      ],
      "metadata": {
        "colab": {
          "base_uri": "https://localhost:8080/"
        },
        "id": "YXkOlzUBN3fb",
        "outputId": "1f9d104e-3edf-40a0-c357-33852015c433"
      },
      "execution_count": null,
      "outputs": [
        {
          "output_type": "stream",
          "name": "stdout",
          "text": [
            "40\n",
            "Dhiraj\n"
          ]
        }
      ]
    },
    {
      "cell_type": "code",
      "source": [
        "#file and directory access\n",
        "import os\n",
        "print(os.getcwd())\n",
        "print(os.listdir())"
      ],
      "metadata": {
        "colab": {
          "base_uri": "https://localhost:8080/"
        },
        "id": "ufCV1kiqTPk4",
        "outputId": "61b310cf-da1e-43af-deb0-09c8d385ccbf"
      },
      "execution_count": null,
      "outputs": [
        {
          "output_type": "stream",
          "name": "stdout",
          "text": [
            "/content\n",
            "['.config', 'sample_data']\n"
          ]
        }
      ]
    },
    {
      "cell_type": "code",
      "source": [
        "#high level operatiob on files and list of files\n",
        "import shutil\n",
        "shutil.copy('test.txt','test1.txt')"
      ],
      "metadata": {
        "id": "HV_K9Ey0T7Sy"
      },
      "execution_count": null,
      "outputs": []
    },
    {
      "cell_type": "code",
      "source": [
        "#data serialization\n",
        "#used in order to work with json\n",
        "import json\n",
        "#to convert data from dictionary to json, json.dumps() method is used.\n",
        "students = {\n",
        "    'student1':{\n",
        "        'name':'Raaj',\n",
        "        'marks':'90'\n",
        "    },\n",
        "    'student2':{\n",
        "        'name':'Dhiraj',\n",
        "        'marks':'80'\n",
        "    },\n",
        "    'student3':{\n",
        "        'name':'Kedar',\n",
        "        'marks':'70'\n",
        "    }\n",
        "}\n",
        "json_str= json.dumps(students)\n",
        "print(type(json_str))\n",
        "print(json_str)\n",
        "\n",
        "#To convert json data into dictonary json.loads() method is used.\n",
        "\n",
        "parsed_data = json.loads(json_str)\n",
        "print(type(parsed_data))\n",
        "print(parsed_data)"
      ],
      "metadata": {
        "colab": {
          "base_uri": "https://localhost:8080/"
        },
        "id": "n6fEdsHnUljq",
        "outputId": "09d4b41f-f467-4bca-cbdc-d9639f25b713"
      },
      "execution_count": null,
      "outputs": [
        {
          "output_type": "stream",
          "name": "stdout",
          "text": [
            "<class 'str'>\n",
            "{\"student1\": {\"name\": \"Raaj\", \"marks\": \"90\"}, \"student2\": {\"name\": \"Dhiraj\", \"marks\": \"80\"}, \"student3\": {\"name\": \"Kedar\", \"marks\": \"70\"}}\n",
            "<class 'dict'>\n",
            "{'student1': {'name': 'Raaj', 'marks': '90'}, 'student2': {'name': 'Dhiraj', 'marks': '80'}, 'student3': {'name': 'Kedar', 'marks': '70'}}\n"
          ]
        }
      ]
    },
    {
      "cell_type": "code",
      "source": [
        "#csv\n",
        "#this module is used to work with csv files.\n",
        "import csv\n",
        "with open('example.csv',mode='w',newline='')as file:\n",
        "  writer = csv.writer(file)\n",
        "  writer.writerow(['Name','Branch','Roll_no'])\n",
        "  writer.writerow(['Raaj','AI & DS',40])\n",
        "  writer.writerow(['Dhiraj','AI & DS',39])\n",
        "\n",
        "with open('example.csv', mode='r') as file:\n",
        "  reader= csv.reader(file)\n",
        "  for row in reader:\n",
        "    print(row)\n"
      ],
      "metadata": {
        "colab": {
          "base_uri": "https://localhost:8080/"
        },
        "id": "sI9KenBzX-vH",
        "outputId": "c4aa2576-21f2-4940-8e7b-d917d0cd11a6"
      },
      "execution_count": null,
      "outputs": [
        {
          "output_type": "stream",
          "name": "stdout",
          "text": [
            "['Name', 'Branch', 'Roll_no']\n",
            "['Raaj', 'AI & DS', '40']\n",
            "['Dhiraj', 'AI & DS', '39']\n"
          ]
        }
      ]
    },
    {
      "cell_type": "code",
      "source": [
        "#datetime\n",
        "from datetime import datetime\n",
        "now = datetime.now()\n",
        "print(now)\n",
        "print(now.year)\n",
        "print(now.month)\n",
        "print(now.day)\n",
        "print(now.hour)\n",
        "print(now.minute)\n",
        "print(now.second)"
      ],
      "metadata": {
        "colab": {
          "base_uri": "https://localhost:8080/"
        },
        "id": "Oq5MKHU4aW6r",
        "outputId": "33cf0bb0-6305-48f0-807c-346463dfcb4b"
      },
      "execution_count": null,
      "outputs": [
        {
          "output_type": "stream",
          "name": "stdout",
          "text": [
            "2024-12-01 13:49:07.759356\n",
            "2024\n",
            "12\n",
            "1\n",
            "13\n",
            "49\n",
            "7\n"
          ]
        }
      ]
    },
    {
      "cell_type": "code",
      "source": [
        "#time\n",
        "import time\n",
        "print(time.time())\n",
        "time.sleep(2)\n",
        "print(time.time())\n",
        "print(time.localtime(time.time()))"
      ],
      "metadata": {
        "colab": {
          "base_uri": "https://localhost:8080/"
        },
        "id": "WUBCogAue7tV",
        "outputId": "6f75ec5b-68e8-4d6f-bda4-d863bcf9807e"
      },
      "execution_count": null,
      "outputs": [
        {
          "output_type": "stream",
          "name": "stdout",
          "text": [
            "1733061012.5320888\n",
            "1733061014.5361767\n",
            "time.struct_time(tm_year=2024, tm_mon=12, tm_mday=1, tm_hour=13, tm_min=50, tm_sec=14, tm_wday=6, tm_yday=336, tm_isdst=0)\n"
          ]
        }
      ]
    },
    {
      "cell_type": "code",
      "source": [
        "#regular expression\n",
        "import re\n",
        "pattern = r'\\d+'\n",
        "string = 'there are 123 apples.'\n",
        "result = re.search(pattern,string)\n",
        "print(result.group())"
      ],
      "metadata": {
        "colab": {
          "base_uri": "https://localhost:8080/"
        },
        "id": "iHPbxtH0fNOH",
        "outputId": "b1feb721-660b-4018-d919-25c21bf6fc98"
      },
      "execution_count": null,
      "outputs": [
        {
          "output_type": "stream",
          "name": "stdout",
          "text": [
            "123\n"
          ]
        }
      ]
    },
    {
      "cell_type": "markdown",
      "source": [
        "# **File operation - Read and write files**"
      ],
      "metadata": {
        "id": "9Nkspo0VhqJx"
      }
    },
    {
      "cell_type": "code",
      "source": [
        "import os\n",
        "with open('sample.txt',mode='w',newline='') as file:\n",
        "  file.write('Hello World')\n",
        "  file.write('\\n')\n",
        "  file.write('Welcome to python\\n')\n",
        "with open('sample.txt', mode='r') as file:\n",
        "  content = file.read()\n",
        "  print(content)\n"
      ],
      "metadata": {
        "id": "ewgM63Oyf6Mf",
        "colab": {
          "base_uri": "https://localhost:8080/"
        },
        "outputId": "3b67e013-5b8c-481f-b212-ceedb607f2dc"
      },
      "execution_count": 12,
      "outputs": [
        {
          "output_type": "stream",
          "name": "stdout",
          "text": [
            "Hello World\n",
            "Welcome to python\n",
            "\n"
          ]
        }
      ]
    },
    {
      "cell_type": "code",
      "source": [
        "#read file line by line\n",
        "import os\n",
        "with open('sample.txt',mode='r') as file:\n",
        "  for row in file:\n",
        "    print(row.strip())##strip() removes the newline everytime"
      ],
      "metadata": {
        "colab": {
          "base_uri": "https://localhost:8080/"
        },
        "id": "tlT8Dehxi-wv",
        "outputId": "0d786040-2ca1-487e-df80-552a68809a65"
      },
      "execution_count": 13,
      "outputs": [
        {
          "output_type": "stream",
          "name": "stdout",
          "text": [
            "Hello World\n",
            "Welcome to python\n"
          ]
        }
      ]
    },
    {
      "cell_type": "code",
      "source": [
        "#for writing multiple lines at a time\n",
        "#also instead of mode='w' we write just 'a' when we want to append the data into file.\n",
        "#because when we use mode='w' we overwrite the file. and when we write 'a' we just append the new data into existing data.\n",
        "import os\n",
        "with open('sample.txt','a',newline='') as file:\n",
        "  lines = ['hey this Raaj!\\n','I love machine learning.\\n']\n",
        "  file.writelines(lines)"
      ],
      "metadata": {
        "id": "DV3R8vlokZHD"
      },
      "execution_count": 14,
      "outputs": []
    },
    {
      "cell_type": "code",
      "source": [
        "# Writing and reading a binary file.\n",
        "import os\n",
        "with open('sample.bin',mode='wb') as file:\n",
        "  data=b'esx3345m'\n",
        "  file.write(data)\n",
        "\n",
        "with open('sample.bin', mode='rb') as file:\n",
        "  data = file.read()\n",
        "  print(data)"
      ],
      "metadata": {
        "id": "-WiScIq6lbEb",
        "outputId": "faa9f4bc-afda-4e3f-9be1-5dc336adf5e3",
        "colab": {
          "base_uri": "https://localhost:8080/"
        }
      },
      "execution_count": 16,
      "outputs": [
        {
          "output_type": "stream",
          "name": "stdout",
          "text": [
            "b'esx3345m'\n"
          ]
        }
      ]
    },
    {
      "cell_type": "markdown",
      "source": [
        "**w+ mode in python is used for both writing and reading. if the file does not exist it will be created. and its content will be overwritten.**"
      ],
      "metadata": {
        "id": "kF0OuA6tnXoe"
      }
    },
    {
      "cell_type": "code",
      "source": [
        "with open('sample1.txt','w+', newline='') as file:\n",
        "  list=['Hello coder!\\n','Are you new to machine learning?\\n','lets learn it together\\n']\n",
        "  file.writelines(list)\n",
        "  file.seek(0)#this is used to move cursor at the top of the file.\n",
        "  content = file.read()\n",
        "  print(content)"
      ],
      "metadata": {
        "id": "Rx3sjU1Cm7Kd",
        "outputId": "a32b25d1-41e3-4ae8-e493-ca6a2cb5896d",
        "colab": {
          "base_uri": "https://localhost:8080/"
        }
      },
      "execution_count": 18,
      "outputs": [
        {
          "output_type": "stream",
          "name": "stdout",
          "text": [
            "Hello coder!\n",
            "Are you new to machine learning?\n",
            "lets learn it together\n",
            "\n"
          ]
        }
      ]
    },
    {
      "cell_type": "code",
      "source": [
        "#creating a file inside a directory inside the current working directory (cwd)\n",
        "dir_path = \"new_folder\"\n",
        "file_path = \"newfile.txt\"\n",
        "complete_path = os.path.join(os.getcwd(), dir_path, file_path)\n",
        "os.makedirs(os.path.dirname(complete_path), exist_ok=True)"
      ],
      "metadata": {
        "id": "nGxGH6RZoPOA"
      },
      "execution_count": 19,
      "outputs": []
    },
    {
      "cell_type": "code",
      "source": [],
      "metadata": {
        "id": "AEBn7O4gpfk0"
      },
      "execution_count": null,
      "outputs": []
    }
  ]
}