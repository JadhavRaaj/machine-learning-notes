{
  "nbformat": 4,
  "nbformat_minor": 0,
  "metadata": {
    "colab": {
      "provenance": [],
      "authorship_tag": "ABX9TyOBqpHxdwh1pkexxoNw3cln",
      "include_colab_link": true
    },
    "kernelspec": {
      "name": "python3",
      "display_name": "Python 3"
    },
    "language_info": {
      "name": "python"
    }
  },
  "cells": [
    {
      "cell_type": "markdown",
      "metadata": {
        "id": "view-in-github",
        "colab_type": "text"
      },
      "source": [
        "<a href=\"https://colab.research.google.com/github/nighteye2/machine-learning-notes/blob/main/Numpy.ipynb\" target=\"_parent\"><img src=\"https://colab.research.google.com/assets/colab-badge.svg\" alt=\"Open In Colab\"/></a>"
      ]
    },
    {
      "cell_type": "markdown",
      "source": [
        "# **NUMPY**"
      ],
      "metadata": {
        "id": "v4KBUSuc5Vst"
      }
    },
    {
      "cell_type": "markdown",
      "source": [
        "numpy is the scientific computing library in python. it provides support for arrays and matrices along with a collection of mathematical function to operate on this data structures."
      ],
      "metadata": {
        "id": "m9G7MVg45ex5"
      }
    },
    {
      "cell_type": "code",
      "source": [
        "import numpy as np\n",
        "#create arrays using numpy\n",
        "arr1 = np.array([1,2,3])#this is 1d array\n",
        "print(type(arr1))\n",
        "print(arr1)\n",
        "print(arr1.shape)#gives the shape of array"
      ],
      "metadata": {
        "colab": {
          "base_uri": "https://localhost:8080/"
        },
        "id": "J00dQgXY5com",
        "outputId": "16ce10bb-2160-48e0-d6b3-6a196a2932a7"
      },
      "execution_count": 5,
      "outputs": [
        {
          "output_type": "stream",
          "name": "stdout",
          "text": [
            "<class 'numpy.ndarray'>\n",
            "[1 2 3]\n",
            "(3,)\n"
          ]
        }
      ]
    },
    {
      "cell_type": "code",
      "source": [
        "arr2 = np.array([[1,2,3],[4,5,6]])#it is 2d array\n",
        "print(arr2)\n",
        "print(arr2.shape)"
      ],
      "metadata": {
        "colab": {
          "base_uri": "https://localhost:8080/"
        },
        "id": "KRTM5LUg5biQ",
        "outputId": "52718fc4-6db3-4585-f675-e1bd038c3a29"
      },
      "execution_count": 11,
      "outputs": [
        {
          "output_type": "stream",
          "name": "stdout",
          "text": [
            "[[1 2 3]\n",
            " [4 5 6]]\n",
            "(2, 3)\n"
          ]
        }
      ]
    },
    {
      "cell_type": "code",
      "source": [
        "arr3 = np.array([1,2,3])\n",
        "arr3.reshape(1,3)#this means 1 row and 3 columns"
      ],
      "metadata": {
        "colab": {
          "base_uri": "https://localhost:8080/"
        },
        "id": "pJDDqr-N5bZG",
        "outputId": "3158706e-4134-405c-f584-7ac031a1b0c1"
      },
      "execution_count": 9,
      "outputs": [
        {
          "output_type": "execute_result",
          "data": {
            "text/plain": [
              "array([[1, 2, 3]])"
            ]
          },
          "metadata": {},
          "execution_count": 9
        }
      ]
    },
    {
      "cell_type": "code",
      "source": [
        "np.arange(0,10,1).reshape(2,5)#first number is rows and second number is column no"
      ],
      "metadata": {
        "colab": {
          "base_uri": "https://localhost:8080/"
        },
        "id": "oy-BuPQV5bQ_",
        "outputId": "f033b24a-20ef-4c4c-dda4-72cbbe4b37a9"
      },
      "execution_count": 16,
      "outputs": [
        {
          "output_type": "execute_result",
          "data": {
            "text/plain": [
              "array([[0, 1, 2, 3, 4],\n",
              "       [5, 6, 7, 8, 9]])"
            ]
          },
          "metadata": {},
          "execution_count": 16
        }
      ]
    },
    {
      "cell_type": "code",
      "source": [
        "#predefined functions\n",
        "np.ones((4,3))"
      ],
      "metadata": {
        "colab": {
          "base_uri": "https://localhost:8080/"
        },
        "id": "EKj4sKumLzMf",
        "outputId": "6a42c17d-6f9e-4542-b3b6-6c482f3605c1"
      },
      "execution_count": 19,
      "outputs": [
        {
          "output_type": "execute_result",
          "data": {
            "text/plain": [
              "array([[1., 1., 1.],\n",
              "       [1., 1., 1.],\n",
              "       [1., 1., 1.],\n",
              "       [1., 1., 1.]])"
            ]
          },
          "metadata": {},
          "execution_count": 19
        }
      ]
    },
    {
      "cell_type": "code",
      "source": [
        "np.zeros((4,3))"
      ],
      "metadata": {
        "colab": {
          "base_uri": "https://localhost:8080/"
        },
        "id": "xBQyCyo7LyaC",
        "outputId": "7d906c99-e96b-47ab-88cf-dd5fa9c5aca1"
      },
      "execution_count": 20,
      "outputs": [
        {
          "output_type": "execute_result",
          "data": {
            "text/plain": [
              "array([[0., 0., 0.],\n",
              "       [0., 0., 0.],\n",
              "       [0., 0., 0.],\n",
              "       [0., 0., 0.]])"
            ]
          },
          "metadata": {},
          "execution_count": 20
        }
      ]
    },
    {
      "cell_type": "code",
      "source": [
        "#identity matrix\n",
        "np.eye(4)"
      ],
      "metadata": {
        "colab": {
          "base_uri": "https://localhost:8080/"
        },
        "id": "kO7Q3sT9Lx_L",
        "outputId": "5bca9576-c082-44f7-b289-164311e1417c"
      },
      "execution_count": 21,
      "outputs": [
        {
          "output_type": "execute_result",
          "data": {
            "text/plain": [
              "array([[1., 0., 0., 0.],\n",
              "       [0., 1., 0., 0.],\n",
              "       [0., 0., 1., 0.],\n",
              "       [0., 0., 0., 1.]])"
            ]
          },
          "metadata": {},
          "execution_count": 21
        }
      ]
    },
    {
      "cell_type": "code",
      "source": [
        "arr4=np.array([[1,2,3,4,5],[1,2,3,4,5]])\n",
        "print(arr4.size) # gives total number of elements present in the array\n",
        "print(arr4.ndim) #gives the number of dimensions of the array"
      ],
      "metadata": {
        "colab": {
          "base_uri": "https://localhost:8080/"
        },
        "id": "fDpQVq0tLwGd",
        "outputId": "bdb7488a-adf5-40b0-ea88-2ee0aaa5563a"
      },
      "execution_count": 27,
      "outputs": [
        {
          "output_type": "stream",
          "name": "stdout",
          "text": [
            "10\n",
            "2\n"
          ]
        }
      ]
    },
    {
      "cell_type": "code",
      "source": [
        "#numpy vectorised operations\n",
        "array1 = np.array([[1,2,3,4,5],[6,7,8,9,10]])\n",
        "array2 = np.array([[10,20,30,40,50],[60,70,80,90,100]])\n",
        "print('element wise operations \\n')\n",
        "print('addition =\\n',array2+array1)\n",
        "print('substraction =\\n',array2-array1)\n",
        "print('multiplication =\\n',array2*array1)\n",
        "print('division =\\n',array2/array1)"
      ],
      "metadata": {
        "colab": {
          "base_uri": "https://localhost:8080/"
        },
        "id": "84PnrWMpNyBS",
        "outputId": "2292cb64-b222-4d84-9aa0-14066a7c16c8"
      },
      "execution_count": 30,
      "outputs": [
        {
          "output_type": "stream",
          "name": "stdout",
          "text": [
            "element wise operations \n",
            "\n",
            "addition =\n",
            " [[ 11  22  33  44  55]\n",
            " [ 66  77  88  99 110]]\n",
            "substraction =\n",
            " [[ 9 18 27 36 45]\n",
            " [54 63 72 81 90]]\n",
            "multiplication =\n",
            " [[  10   40   90  160  250]\n",
            " [ 360  490  640  810 1000]]\n",
            "division =\n",
            " [[10. 10. 10. 10. 10.]\n",
            " [10. 10. 10. 10. 10.]]\n"
          ]
        }
      ]
    },
    {
      "cell_type": "code",
      "source": [
        "#universal functions\n",
        "array1 = np.array([1,2,3,4,5,6,7,8,9,10])\n",
        "# sqaure root\n",
        "print(np.sqrt(array1))\n",
        "# exponential\n",
        "print(np.exp(array1))\n",
        "# sine\n",
        "print(np.sin(array1))\n",
        "# natural log\n",
        "print(np.log(array1))"
      ],
      "metadata": {
        "colab": {
          "base_uri": "https://localhost:8080/"
        },
        "id": "MlcovSllNx35",
        "outputId": "32589e88-6ef9-41bb-d6ad-7c57dc5149ab"
      },
      "execution_count": 31,
      "outputs": [
        {
          "output_type": "stream",
          "name": "stdout",
          "text": [
            "[1.         1.41421356 1.73205081 2.         2.23606798 2.44948974\n",
            " 2.64575131 2.82842712 3.         3.16227766]\n",
            "[2.71828183e+00 7.38905610e+00 2.00855369e+01 5.45981500e+01\n",
            " 1.48413159e+02 4.03428793e+02 1.09663316e+03 2.98095799e+03\n",
            " 8.10308393e+03 2.20264658e+04]\n",
            "[ 0.84147098  0.90929743  0.14112001 -0.7568025  -0.95892427 -0.2794155\n",
            "  0.6569866   0.98935825  0.41211849 -0.54402111]\n",
            "[0.         0.69314718 1.09861229 1.38629436 1.60943791 1.79175947\n",
            " 1.94591015 2.07944154 2.19722458 2.30258509]\n"
          ]
        }
      ]
    },
    {
      "cell_type": "code",
      "source": [
        "# array slicing and indexing\n",
        "array1 = np.array([[1,2,3,4,5],[6,7,8,9,10],[11,12,13,14,15]])\n",
        "print('array =\\n',array1)\n",
        "print(array1[0,0])\n",
        "print(array1[0,1])\n",
        "print(array1[0,2])\n",
        "print(array1[0,3])\n",
        "print(array1[0,4])\n",
        "\n",
        "print(array1[1:,0:])\n",
        "print('\\n')\n",
        "print(array1[0:2,0:2])\n",
        "print('\\n')\n",
        "print(array1[0:2,3:])"
      ],
      "metadata": {
        "colab": {
          "base_uri": "https://localhost:8080/"
        },
        "id": "YsrKZhJ9Nxux",
        "outputId": "3dd1133a-d1ea-4abc-ac6d-e2fb99551bc5"
      },
      "execution_count": 40,
      "outputs": [
        {
          "output_type": "stream",
          "name": "stdout",
          "text": [
            "array =\n",
            " [[ 1  2  3  4  5]\n",
            " [ 6  7  8  9 10]\n",
            " [11 12 13 14 15]]\n",
            "1\n",
            "2\n",
            "3\n",
            "4\n",
            "5\n",
            "[[ 6  7  8  9 10]\n",
            " [11 12 13 14 15]]\n",
            "\n",
            "\n",
            "[[1 2]\n",
            " [6 7]]\n",
            "\n",
            "\n",
            "[[ 4  5]\n",
            " [ 9 10]\n",
            " [14 15]]\n"
          ]
        }
      ]
    },
    {
      "cell_type": "code",
      "source": [
        "from os.path import normcase\n",
        "#statistical concepts = normalization\n",
        "\n",
        "array1 = np.array([1,2,3,4,5])\n",
        "\n",
        "#mean\n",
        "mean = np.mean(array1)\n",
        "print('mean = ',mean)\n",
        "\n",
        "#median\n",
        "median = np.median(array1)\n",
        "print('median = ',median)\n",
        "\n",
        "#standard deviation\n",
        "std = np.std(array1)\n",
        "print('standard deviation = ',std)\n",
        "\n",
        "#variance\n",
        "var = np.var(array1)\n",
        "print('variance = ',var)\n",
        "\n",
        "#normalised data\n",
        "normalised_data = (array1-mean)/std\n",
        "print('normalised data = ',normalised_data)"
      ],
      "metadata": {
        "colab": {
          "base_uri": "https://localhost:8080/"
        },
        "id": "FIL0fJwaNxl9",
        "outputId": "0c6ebf25-9a48-481d-acf1-4b6765a97b02"
      },
      "execution_count": 41,
      "outputs": [
        {
          "output_type": "stream",
          "name": "stdout",
          "text": [
            "mean =  3.0\n",
            "median =  3.0\n",
            "standard deviation =  1.4142135623730951\n",
            "variance =  2.0\n",
            "normalised data =  [-1.41421356 -0.70710678  0.          0.70710678  1.41421356]\n"
          ]
        }
      ]
    },
    {
      "cell_type": "code",
      "source": [
        "#logical operation\n",
        "data = np.array([1,2,3,4,5])\n",
        "print(data>2)\n",
        "print(data[data>2])"
      ],
      "metadata": {
        "colab": {
          "base_uri": "https://localhost:8080/"
        },
        "id": "8twbHS9XNxeI",
        "outputId": "976462b2-7d8e-4ab6-8567-d63063d62d53"
      },
      "execution_count": 42,
      "outputs": [
        {
          "output_type": "stream",
          "name": "stdout",
          "text": [
            "[False False  True  True  True]\n",
            "[3 4 5]\n"
          ]
        }
      ]
    },
    {
      "cell_type": "code",
      "source": [
        "data = np.array([1,2,3,4,5,6,7,8,9,10])\n",
        "data1 = data[(data>3) & (data<8)]\n",
        "print(data1)"
      ],
      "metadata": {
        "colab": {
          "base_uri": "https://localhost:8080/"
        },
        "id": "yUXWf3RRNxXF",
        "outputId": "6e9ea643-390e-4911-eebc-3d64b6fff458"
      },
      "execution_count": 43,
      "outputs": [
        {
          "output_type": "stream",
          "name": "stdout",
          "text": [
            "[4 5 6 7]\n"
          ]
        }
      ]
    },
    {
      "cell_type": "code",
      "source": [],
      "metadata": {
        "id": "HabD7OynNw9S"
      },
      "execution_count": null,
      "outputs": []
    },
    {
      "cell_type": "code",
      "source": [],
      "metadata": {
        "id": "sA6Dv_ny5bIt"
      },
      "execution_count": null,
      "outputs": []
    },
    {
      "cell_type": "code",
      "source": [],
      "metadata": {
        "id": "uU_aoUmo5ady"
      },
      "execution_count": null,
      "outputs": []
    },
    {
      "cell_type": "code",
      "execution_count": 1,
      "metadata": {
        "colab": {
          "base_uri": "https://localhost:8080/"
        },
        "id": "BVVDUJnCh70B",
        "outputId": "8c73bdfd-fd08-4574-ccdc-10595dff6046"
      },
      "outputs": [
        {
          "output_type": "stream",
          "name": "stdout",
          "text": [
            "PageRank values: [0.38778971 0.21481063 0.39739966]\n"
          ]
        }
      ],
      "source": [
        "import numpy as np\n",
        "\n",
        "def page_rank(adj_matrix: np.ndarray, num_iterations: int = 100, d: float = 0.85):\n",
        "    n = adj_matrix.shape[0]  # Nodes\n",
        "    pagerank = np.ones(n) / n  # Init\n",
        "    row_sums = adj_matrix.sum(axis=1)  # Sums\n",
        "    norm_adj_matrix = adj_matrix / row_sums[:, np.newaxis]  # Normalize\n",
        "\n",
        "    for _ in range(num_iterations):  # Iterate\n",
        "        pagerank = (1 - d) / n + d * norm_adj_matrix.T.dot(pagerank)  # Update\n",
        "\n",
        "    return pagerank  # Return\n",
        "\n",
        "if __name__ == \"__main__\":\n",
        "    adj_matrix = np.array([  # Matrix\n",
        "        [0, 1, 1],\n",
        "        [0, 0, 1],\n",
        "        [1, 0, 0]\n",
        "    ])\n",
        "\n",
        "    pagerank_values = page_rank(adj_matrix)  # Calculate\n",
        "    print(\"PageRank values:\", pagerank_values)  # Output\n"
      ]
    }
  ]
}