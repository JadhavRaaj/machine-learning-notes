{
 "cells": [
  {
   "cell_type": "markdown",
   "id": "163a5ec4-92f1-4f2a-ba9c-201e8ce42c0e",
   "metadata": {},
   "source": [
    "Functions in Python"
   ]
  },
  {
   "cell_type": "code",
   "execution_count": 1,
   "id": "cf5a2977-d7cc-4df3-9e9d-df0484004755",
   "metadata": {},
   "outputs": [],
   "source": [
    "#function is the block of the code which is used to improve reusability, redability of the code \n",
    "#basic syntax:\n",
    "def function_name(parameters):\n",
    "    \"\"\"\"Docstring\"\"\"\n",
    "    #function body\n",
    "    return expression"
   ]
  },
  {
   "cell_type": "code",
   "execution_count": 8,
   "id": "575b3d70-31e3-4300-852f-9c2fc3fb0afb",
   "metadata": {},
   "outputs": [
    {
     "name": "stdin",
     "output_type": "stream",
     "text": [
      "Enter the number 7\n"
     ]
    },
    {
     "name": "stdout",
     "output_type": "stream",
     "text": [
      "this is an odd number.\n"
     ]
    }
   ],
   "source": [
    "def check(a):\n",
    "    \"\"\"this checks even or odd number\"\"\"\n",
    "    if a%2==0:\n",
    "        print(\"this is an even number.\")\n",
    "    else:\n",
    "        print(\"this is an odd number.\")\n",
    "\n",
    "num = int(input(\"Enter the number\"))\n",
    "check(num)"
   ]
  },
  {
   "cell_type": "code",
   "execution_count": 11,
   "id": "d68b9d1e-705d-412b-bfb6-d74799575711",
   "metadata": {},
   "outputs": [
    {
     "name": "stdin",
     "output_type": "stream",
     "text": [
      "Enter your name! Raaj\n"
     ]
    },
    {
     "name": "stdout",
     "output_type": "stream",
     "text": [
      "Hey!! Hi Raaj.\n"
     ]
    }
   ],
   "source": [
    "##greet function \n",
    "user_name = input(\"Enter your name!\")\n",
    "\n",
    "def greet(name):\n",
    "    print(f\"Hey!! Hi {name}.\")\n",
    "greet(user_name)"
   ]
  },
  {
   "cell_type": "code",
   "execution_count": 12,
   "id": "4be5a073-c6dd-4c1a-8905-3b858d380845",
   "metadata": {},
   "outputs": [
    {
     "name": "stdout",
     "output_type": "stream",
     "text": [
      "2\n",
      "3\n",
      "5\n",
      "7\n",
      "11\n",
      "13\n",
      "Raaj\n"
     ]
    }
   ],
   "source": [
    "#so when you have multiple parameters, so instead of writing name of every params u can just write *args.\n",
    "def prime_num(*args):\n",
    "    for number in args:\n",
    "        print(number)\n",
    "\n",
    "prime_num(2,3,5,7,11,13,\"Raaj\")\n",
    "#this is known as positional arguments."
   ]
  },
  {
   "cell_type": "code",
   "execution_count": 14,
   "id": "a1601b54-7372-4746-b557-7599ebad84ab",
   "metadata": {},
   "outputs": [
    {
     "name": "stdout",
     "output_type": "stream",
     "text": [
      "name:Raaj\n",
      "Age:20\n",
      "Grade:A+\n"
     ]
    }
   ],
   "source": [
    "#now we will see keyword arguments\n",
    "#in this we should have key value pairs.\n",
    "def keyword_args(**kwargs):\n",
    "    for key,value in kwargs.items():\n",
    "        print(f\"{key}:{value}\")\n",
    "\n",
    "keyword_args(name=\"Raaj\",Age=\"20\",Grade=\"A+\")"
   ]
  },
  {
   "cell_type": "code",
   "execution_count": null,
   "id": "0a4012c5-97fd-4703-bcfe-d0b869a7cfb6",
   "metadata": {},
   "outputs": [],
   "source": [
    "#write a program to calculate a frequency of words in the text file\n",
    "def calc_frequency(file_path):\n",
    "    word_count={}\n",
    "    with open(file_path,'r') as file:\n",
    "        for line in file:\n",
    "            words= line.split()\n",
    "            for word in words:\n",
    "                word= word.lowe().strip(',.?!\":;')\n",
    "                word_count[word]=word_count.get(word,0)+1\n",
    "    return word_Count\n",
    "file_path='sample.txt'\n",
    "count_word= calc_frequency(file_path)\n",
    "print(count_word)"
   ]
  },
  {
   "cell_type": "code",
   "execution_count": 15,
   "id": "806827ba-b4e0-4bc0-8773-ebfdcd028c40",
   "metadata": {},
   "outputs": [
    {
     "data": {
      "text/plain": [
       "6"
      ]
     },
     "execution_count": 15,
     "metadata": {},
     "output_type": "execute_result"
    }
   ],
   "source": [
    "#lambda functions \n",
    "#these are the functions that are written using lambda keyword. they can contain any number of arguments but contain only one expression.\n",
    "\n",
    "addition = lambda x,y,z: x+y+z\n",
    "addition(1,2,3)"
   ]
  },
  {
   "cell_type": "code",
   "execution_count": 22,
   "id": "496eacb6-b955-454d-b9cb-75888e8221c5",
   "metadata": {},
   "outputs": [
    {
     "data": {
      "text/plain": [
       "[1, 4, 9, 16, 25, 36, 49, 64, 81, 100]"
      ]
     },
     "execution_count": 22,
     "metadata": {},
     "output_type": "execute_result"
    }
   ],
   "source": [
    "#map function \n",
    "# a map function applies the given function to all items in the input list or iterable and returns a map object and iterator\n",
    "def square(x):\n",
    "    return x*x\n",
    "\n",
    "numbers = [1,2,3,4,5,6,7,8,9,10]\n",
    "list(map(square,numbers))"
   ]
  },
  {
   "cell_type": "code",
   "execution_count": 23,
   "id": "6814c357-b08a-4166-897a-8258f2911db6",
   "metadata": {},
   "outputs": [
    {
     "data": {
      "text/plain": [
       "[1, 4, 9, 16, 25, 36, 49, 64, 81, 100]"
      ]
     },
     "execution_count": 23,
     "metadata": {},
     "output_type": "execute_result"
    }
   ],
   "source": [
    "#lets perform same using lambda function\n",
    "list(map(lambda x: x*x, numbers))"
   ]
  },
  {
   "cell_type": "code",
   "execution_count": null,
   "id": "f8be6f62-bb67-4642-8558-d0ea0e3c2f01",
   "metadata": {},
   "outputs": [],
   "source": [
    "#Filter function \n",
    "\n",
    "#it constructs an iterator from elements of an iterable for which a function returns true. \n",
    "#It is used to filter out items from the list based on condition\n"
   ]
  }
 ],
 "metadata": {
  "kernelspec": {
   "display_name": "Python 3 (ipykernel)",
   "language": "python",
   "name": "python3"
  },
  "language_info": {
   "codemirror_mode": {
    "name": "ipython",
    "version": 3
   },
   "file_extension": ".py",
   "mimetype": "text/x-python",
   "name": "python",
   "nbconvert_exporter": "python",
   "pygments_lexer": "ipython3",
   "version": "3.12.4"
  }
 },
 "nbformat": 4,
 "nbformat_minor": 5
}
